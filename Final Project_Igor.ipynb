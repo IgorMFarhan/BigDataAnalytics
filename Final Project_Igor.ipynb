{
 "cells": [
  {
   "cell_type": "markdown",
   "metadata": {},
   "source": [
    "# Analisis Penyelenggaran 10 Olimpiade Musim Panas Terakhir"
   ]
  },
  {
   "cell_type": "markdown",
   "metadata": {},
   "source": [
    "### Disusun oleh : Igor Muhammad Farhan\n",
    "_______________________________________________________________________________________________________________________________"
   ]
  },
  {
   "cell_type": "markdown",
   "metadata": {},
   "source": [
    "Dataset yang digunakan berasal dari Kaggle yang dapat diunduh <a href=\"https://www.kaggle.com/heesoo37/120-years-of-olympic-history-athletes-and-results\">disini</a> data tersebut memuat 120 tahun penyelenggaraan olimpiade, baik musim panas maupun musim dingin, untuk projek ini akan dibatasi pada penyelenggaraan <b>Olimpiade Musim Panas Rio 2016</b>, kemudian akan di merge dengan dataset <a href=\"https://www.kaggle.com/resulcaliskan/countries-gdps\">GDP negara</a> agar mendapatkan insight yang lebih menarik :)\n"
   ]
  },
  {
   "cell_type": "markdown",
   "metadata": {},
   "source": [
    "<img src=\"https://upload.wikimedia.org/wikipedia/commons/thumb/5/5c/Olympic_rings_without_rims.svg/1200px-Olympic_rings_without_rims.svg.png\" alt=\"Italian Trulli\" width=\"500\" height=\"600\">"
   ]
  },
  {
   "cell_type": "markdown",
   "metadata": {},
   "source": [
    "## Mengimpor library"
   ]
  },
  {
   "cell_type": "code",
   "execution_count": 1,
   "metadata": {},
   "outputs": [],
   "source": [
    "import pandas as pd\n",
    "import numpy as np\n",
    "import matplotlib.pyplot as plot\n",
    "from pandas.plotting import scatter_matrix\n",
    "import seaborn as sns"
   ]
  },
  {
   "cell_type": "markdown",
   "metadata": {},
   "source": [
    "## Mengimpor data set"
   ]
  },
  {
   "cell_type": "code",
   "execution_count": 2,
   "metadata": {},
   "outputs": [
    {
     "data": {
      "text/html": [
       "<div>\n",
       "<style scoped>\n",
       "    .dataframe tbody tr th:only-of-type {\n",
       "        vertical-align: middle;\n",
       "    }\n",
       "\n",
       "    .dataframe tbody tr th {\n",
       "        vertical-align: top;\n",
       "    }\n",
       "\n",
       "    .dataframe thead th {\n",
       "        text-align: right;\n",
       "    }\n",
       "</style>\n",
       "<table border=\"1\" class=\"dataframe\">\n",
       "  <thead>\n",
       "    <tr style=\"text-align: right;\">\n",
       "      <th></th>\n",
       "      <th>ID</th>\n",
       "      <th>Name</th>\n",
       "      <th>Sex</th>\n",
       "      <th>Age</th>\n",
       "      <th>Height</th>\n",
       "      <th>Weight</th>\n",
       "      <th>Team</th>\n",
       "      <th>NOC</th>\n",
       "      <th>Games</th>\n",
       "      <th>Year</th>\n",
       "      <th>Season</th>\n",
       "      <th>City</th>\n",
       "      <th>Sport</th>\n",
       "      <th>Event</th>\n",
       "      <th>Medal</th>\n",
       "    </tr>\n",
       "  </thead>\n",
       "  <tbody>\n",
       "    <tr>\n",
       "      <th>0</th>\n",
       "      <td>1</td>\n",
       "      <td>A Dijiang</td>\n",
       "      <td>M</td>\n",
       "      <td>24.0</td>\n",
       "      <td>180.0</td>\n",
       "      <td>80.0</td>\n",
       "      <td>China</td>\n",
       "      <td>CHN</td>\n",
       "      <td>1992 Summer</td>\n",
       "      <td>1992</td>\n",
       "      <td>Summer</td>\n",
       "      <td>Barcelona</td>\n",
       "      <td>Basketball</td>\n",
       "      <td>Basketball Men's Basketball</td>\n",
       "      <td>NaN</td>\n",
       "    </tr>\n",
       "    <tr>\n",
       "      <th>1</th>\n",
       "      <td>2</td>\n",
       "      <td>A Lamusi</td>\n",
       "      <td>M</td>\n",
       "      <td>23.0</td>\n",
       "      <td>170.0</td>\n",
       "      <td>60.0</td>\n",
       "      <td>China</td>\n",
       "      <td>CHN</td>\n",
       "      <td>2012 Summer</td>\n",
       "      <td>2012</td>\n",
       "      <td>Summer</td>\n",
       "      <td>London</td>\n",
       "      <td>Judo</td>\n",
       "      <td>Judo Men's Extra-Lightweight</td>\n",
       "      <td>NaN</td>\n",
       "    </tr>\n",
       "    <tr>\n",
       "      <th>2</th>\n",
       "      <td>3</td>\n",
       "      <td>Gunnar Nielsen Aaby</td>\n",
       "      <td>M</td>\n",
       "      <td>24.0</td>\n",
       "      <td>NaN</td>\n",
       "      <td>NaN</td>\n",
       "      <td>Denmark</td>\n",
       "      <td>DEN</td>\n",
       "      <td>1920 Summer</td>\n",
       "      <td>1920</td>\n",
       "      <td>Summer</td>\n",
       "      <td>Antwerpen</td>\n",
       "      <td>Football</td>\n",
       "      <td>Football Men's Football</td>\n",
       "      <td>NaN</td>\n",
       "    </tr>\n",
       "    <tr>\n",
       "      <th>3</th>\n",
       "      <td>4</td>\n",
       "      <td>Edgar Lindenau Aabye</td>\n",
       "      <td>M</td>\n",
       "      <td>34.0</td>\n",
       "      <td>NaN</td>\n",
       "      <td>NaN</td>\n",
       "      <td>Denmark/Sweden</td>\n",
       "      <td>DEN</td>\n",
       "      <td>1900 Summer</td>\n",
       "      <td>1900</td>\n",
       "      <td>Summer</td>\n",
       "      <td>Paris</td>\n",
       "      <td>Tug-Of-War</td>\n",
       "      <td>Tug-Of-War Men's Tug-Of-War</td>\n",
       "      <td>Gold</td>\n",
       "    </tr>\n",
       "    <tr>\n",
       "      <th>4</th>\n",
       "      <td>5</td>\n",
       "      <td>Christine Jacoba Aaftink</td>\n",
       "      <td>F</td>\n",
       "      <td>21.0</td>\n",
       "      <td>185.0</td>\n",
       "      <td>82.0</td>\n",
       "      <td>Netherlands</td>\n",
       "      <td>NED</td>\n",
       "      <td>1988 Winter</td>\n",
       "      <td>1988</td>\n",
       "      <td>Winter</td>\n",
       "      <td>Calgary</td>\n",
       "      <td>Speed Skating</td>\n",
       "      <td>Speed Skating Women's 500 metres</td>\n",
       "      <td>NaN</td>\n",
       "    </tr>\n",
       "  </tbody>\n",
       "</table>\n",
       "</div>"
      ],
      "text/plain": [
       "   ID                      Name Sex   Age  Height  Weight            Team  \\\n",
       "0   1                 A Dijiang   M  24.0   180.0    80.0           China   \n",
       "1   2                  A Lamusi   M  23.0   170.0    60.0           China   \n",
       "2   3       Gunnar Nielsen Aaby   M  24.0     NaN     NaN         Denmark   \n",
       "3   4      Edgar Lindenau Aabye   M  34.0     NaN     NaN  Denmark/Sweden   \n",
       "4   5  Christine Jacoba Aaftink   F  21.0   185.0    82.0     Netherlands   \n",
       "\n",
       "   NOC        Games  Year  Season       City          Sport  \\\n",
       "0  CHN  1992 Summer  1992  Summer  Barcelona     Basketball   \n",
       "1  CHN  2012 Summer  2012  Summer     London           Judo   \n",
       "2  DEN  1920 Summer  1920  Summer  Antwerpen       Football   \n",
       "3  DEN  1900 Summer  1900  Summer      Paris     Tug-Of-War   \n",
       "4  NED  1988 Winter  1988  Winter    Calgary  Speed Skating   \n",
       "\n",
       "                              Event Medal  \n",
       "0       Basketball Men's Basketball   NaN  \n",
       "1      Judo Men's Extra-Lightweight   NaN  \n",
       "2           Football Men's Football   NaN  \n",
       "3       Tug-Of-War Men's Tug-Of-War  Gold  \n",
       "4  Speed Skating Women's 500 metres   NaN  "
      ]
     },
     "execution_count": 2,
     "metadata": {},
     "output_type": "execute_result"
    }
   ],
   "source": [
    "olympics = pd.read_csv('athlete_events.csv')\n",
    "\n",
    "olympics.head()"
   ]
  },
  {
   "cell_type": "markdown",
   "metadata": {},
   "source": [
    "## Mengeksplorasi data"
   ]
  },
  {
   "cell_type": "markdown",
   "metadata": {},
   "source": [
    "1. Melihat informasi pada dataset<br>\n",
    "Didapatkan bahwa dataset terdiri dari 271116 records dan terdapat 15 kolom"
   ]
  },
  {
   "cell_type": "code",
   "execution_count": 3,
   "metadata": {},
   "outputs": [
    {
     "name": "stdout",
     "output_type": "stream",
     "text": [
      "<class 'pandas.core.frame.DataFrame'>\n",
      "RangeIndex: 271116 entries, 0 to 271115\n",
      "Data columns (total 15 columns):\n",
      "ID        271116 non-null int64\n",
      "Name      271116 non-null object\n",
      "Sex       271116 non-null object\n",
      "Age       261642 non-null float64\n",
      "Height    210945 non-null float64\n",
      "Weight    208241 non-null float64\n",
      "Team      271116 non-null object\n",
      "NOC       271116 non-null object\n",
      "Games     271116 non-null object\n",
      "Year      271116 non-null int64\n",
      "Season    271116 non-null object\n",
      "City      271116 non-null object\n",
      "Sport     271116 non-null object\n",
      "Event     271116 non-null object\n",
      "Medal     39783 non-null object\n",
      "dtypes: float64(3), int64(2), object(10)\n",
      "memory usage: 31.0+ MB\n"
     ]
    }
   ],
   "source": [
    "olympics.info()"
   ]
  },
  {
   "cell_type": "markdown",
   "metadata": {},
   "source": [
    "2. Mencari value yang yang tidak ada"
   ]
  },
  {
   "cell_type": "code",
   "execution_count": 4,
   "metadata": {},
   "outputs": [
    {
     "name": "stdout",
     "output_type": "stream",
     "text": [
      "ID             0\n",
      "Name           0\n",
      "Sex            0\n",
      "Age         9474\n",
      "Height     60171\n",
      "Weight     62875\n",
      "Team           0\n",
      "NOC            0\n",
      "Games          0\n",
      "Year           0\n",
      "Season         0\n",
      "City           0\n",
      "Sport          0\n",
      "Event          0\n",
      "Medal     231333\n",
      "dtype: int64\n"
     ]
    }
   ],
   "source": [
    "print(olympics.isnull().sum())"
   ]
  },
  {
   "cell_type": "markdown",
   "metadata": {},
   "source": [
    "Dapat dilihat bahwa Age, Height, Weight memiliki value yang tidak ada paling banyak. Untuk Medal terdapat 231333 data NaN, namun ini dapat diartikan bahwa tidak semua peserta mendapatkan medali, oleh karena itu data ini akan diganti dengan value 'No Medal'"
   ]
  },
  {
   "cell_type": "code",
   "execution_count": 5,
   "metadata": {},
   "outputs": [
    {
     "name": "stdout",
     "output_type": "stream",
     "text": [
      "ID            0\n",
      "Name          0\n",
      "Sex           0\n",
      "Age        9474\n",
      "Height    60171\n",
      "Weight    62875\n",
      "Team          0\n",
      "NOC           0\n",
      "Games         0\n",
      "Year          0\n",
      "Season        0\n",
      "City          0\n",
      "Sport         0\n",
      "Event         0\n",
      "Medal         0\n",
      "dtype: int64\n"
     ]
    }
   ],
   "source": [
    "olympics['Medal'].fillna('No Medal', inplace = True)\n",
    "print(olympics.isnull().sum())"
   ]
  },
  {
   "cell_type": "markdown",
   "metadata": {},
   "source": [
    "# Menggabungkan data\n"
   ]
  },
  {
   "cell_type": "markdown",
   "metadata": {},
   "source": [
    "1.  Merge dengan data NOC (National Olympic Committee)<br>\n",
    "NOC merupakan komite nasional yang bertanggungjawab terhadap partisipan di negaranya. Apakah NOC terhubung dengan \n",
    "unique team? Kita akan cari tahu dengan menghitung unique subset pada kolom NOC dan Team dan menghitung jumlahnya"
   ]
  },
  {
   "cell_type": "code",
   "execution_count": 6,
   "metadata": {},
   "outputs": [
    {
     "name": "stdout",
     "output_type": "stream",
     "text": [
      "FRA    160\n",
      "USA     97\n",
      "GBR     96\n",
      "SWE     52\n",
      "NOR     46\n",
      "Name: NOC, dtype: int64\n"
     ]
    }
   ],
   "source": [
    "print(olympics.loc[:,['NOC','Team']].drop_duplicates()['NOC'].\n",
    "      value_counts().head())"
   ]
  },
  {
   "cell_type": "markdown",
   "metadata": {},
   "source": [
    "Terlihat aneh bukan, mengapa FRA memiliki team lebih dari 160? Terlihat tidak masuk akal bukan? Oleh karena itu perlu di mapping dengan dataset NOC\n",
    "\n",
    "data NOC memiliki kode NOC dan berkoresponding dengan Nama Negara, berikut adalah lima data pertamanya"
   ]
  },
  {
   "cell_type": "code",
   "execution_count": 7,
   "metadata": {},
   "outputs": [
    {
     "data": {
      "text/html": [
       "<div>\n",
       "<style scoped>\n",
       "    .dataframe tbody tr th:only-of-type {\n",
       "        vertical-align: middle;\n",
       "    }\n",
       "\n",
       "    .dataframe tbody tr th {\n",
       "        vertical-align: top;\n",
       "    }\n",
       "\n",
       "    .dataframe thead th {\n",
       "        text-align: right;\n",
       "    }\n",
       "</style>\n",
       "<table border=\"1\" class=\"dataframe\">\n",
       "  <thead>\n",
       "    <tr style=\"text-align: right;\">\n",
       "      <th></th>\n",
       "      <th>NOC</th>\n",
       "      <th>Country</th>\n",
       "    </tr>\n",
       "  </thead>\n",
       "  <tbody>\n",
       "    <tr>\n",
       "      <th>0</th>\n",
       "      <td>AFG</td>\n",
       "      <td>Afghanistan</td>\n",
       "    </tr>\n",
       "    <tr>\n",
       "      <th>1</th>\n",
       "      <td>AHO</td>\n",
       "      <td>Curacao</td>\n",
       "    </tr>\n",
       "    <tr>\n",
       "      <th>2</th>\n",
       "      <td>ALB</td>\n",
       "      <td>Albania</td>\n",
       "    </tr>\n",
       "    <tr>\n",
       "      <th>3</th>\n",
       "      <td>ALG</td>\n",
       "      <td>Algeria</td>\n",
       "    </tr>\n",
       "    <tr>\n",
       "      <th>4</th>\n",
       "      <td>AND</td>\n",
       "      <td>Andorra</td>\n",
       "    </tr>\n",
       "  </tbody>\n",
       "</table>\n",
       "</div>"
      ],
      "text/plain": [
       "   NOC      Country\n",
       "0  AFG  Afghanistan\n",
       "1  AHO      Curacao\n",
       "2  ALB      Albania\n",
       "3  ALG      Algeria\n",
       "4  AND      Andorra"
      ]
     },
     "execution_count": 7,
     "metadata": {},
     "output_type": "execute_result"
    }
   ],
   "source": [
    "regions = pd.read_csv('noc_regions.csv')\n",
    "regions.drop('notes', axis=1, inplace=True)\n",
    "regions.rename(columns = {'region':'Country'}, inplace=True)\n",
    "\n",
    "regions.head()"
   ]
  },
  {
   "cell_type": "markdown",
   "metadata": {},
   "source": [
    "Selanjutnya dataset Olimpiade akan di merge dengan dataset NOC. kolom NOC akan digunakan sebagai primary key. Merge akan dilakukan dengan left join karena diinginkan semua partisipan negara yang tidak ada kode NOC nya tetap ada. Data tersebut akan dikoreksi secara manual."
   ]
  },
  {
   "cell_type": "code",
   "execution_count": 8,
   "metadata": {},
   "outputs": [
    {
     "data": {
      "text/html": [
       "<div>\n",
       "<style scoped>\n",
       "    .dataframe tbody tr th:only-of-type {\n",
       "        vertical-align: middle;\n",
       "    }\n",
       "\n",
       "    .dataframe tbody tr th {\n",
       "        vertical-align: top;\n",
       "    }\n",
       "\n",
       "    .dataframe thead th {\n",
       "        text-align: right;\n",
       "    }\n",
       "</style>\n",
       "<table border=\"1\" class=\"dataframe\">\n",
       "  <thead>\n",
       "    <tr style=\"text-align: right;\">\n",
       "      <th></th>\n",
       "      <th>ID</th>\n",
       "      <th>Name</th>\n",
       "      <th>Sex</th>\n",
       "      <th>Age</th>\n",
       "      <th>Height</th>\n",
       "      <th>Weight</th>\n",
       "      <th>Team</th>\n",
       "      <th>NOC</th>\n",
       "      <th>Games</th>\n",
       "      <th>Year</th>\n",
       "      <th>Season</th>\n",
       "      <th>City</th>\n",
       "      <th>Sport</th>\n",
       "      <th>Event</th>\n",
       "      <th>Medal</th>\n",
       "      <th>Country</th>\n",
       "    </tr>\n",
       "  </thead>\n",
       "  <tbody>\n",
       "    <tr>\n",
       "      <th>0</th>\n",
       "      <td>1</td>\n",
       "      <td>A Dijiang</td>\n",
       "      <td>M</td>\n",
       "      <td>24.0</td>\n",
       "      <td>180.0</td>\n",
       "      <td>80.0</td>\n",
       "      <td>China</td>\n",
       "      <td>CHN</td>\n",
       "      <td>1992 Summer</td>\n",
       "      <td>1992</td>\n",
       "      <td>Summer</td>\n",
       "      <td>Barcelona</td>\n",
       "      <td>Basketball</td>\n",
       "      <td>Basketball Men's Basketball</td>\n",
       "      <td>No Medal</td>\n",
       "      <td>China</td>\n",
       "    </tr>\n",
       "    <tr>\n",
       "      <th>1</th>\n",
       "      <td>2</td>\n",
       "      <td>A Lamusi</td>\n",
       "      <td>M</td>\n",
       "      <td>23.0</td>\n",
       "      <td>170.0</td>\n",
       "      <td>60.0</td>\n",
       "      <td>China</td>\n",
       "      <td>CHN</td>\n",
       "      <td>2012 Summer</td>\n",
       "      <td>2012</td>\n",
       "      <td>Summer</td>\n",
       "      <td>London</td>\n",
       "      <td>Judo</td>\n",
       "      <td>Judo Men's Extra-Lightweight</td>\n",
       "      <td>No Medal</td>\n",
       "      <td>China</td>\n",
       "    </tr>\n",
       "    <tr>\n",
       "      <th>2</th>\n",
       "      <td>3</td>\n",
       "      <td>Gunnar Nielsen Aaby</td>\n",
       "      <td>M</td>\n",
       "      <td>24.0</td>\n",
       "      <td>NaN</td>\n",
       "      <td>NaN</td>\n",
       "      <td>Denmark</td>\n",
       "      <td>DEN</td>\n",
       "      <td>1920 Summer</td>\n",
       "      <td>1920</td>\n",
       "      <td>Summer</td>\n",
       "      <td>Antwerpen</td>\n",
       "      <td>Football</td>\n",
       "      <td>Football Men's Football</td>\n",
       "      <td>No Medal</td>\n",
       "      <td>Denmark</td>\n",
       "    </tr>\n",
       "    <tr>\n",
       "      <th>3</th>\n",
       "      <td>4</td>\n",
       "      <td>Edgar Lindenau Aabye</td>\n",
       "      <td>M</td>\n",
       "      <td>34.0</td>\n",
       "      <td>NaN</td>\n",
       "      <td>NaN</td>\n",
       "      <td>Denmark/Sweden</td>\n",
       "      <td>DEN</td>\n",
       "      <td>1900 Summer</td>\n",
       "      <td>1900</td>\n",
       "      <td>Summer</td>\n",
       "      <td>Paris</td>\n",
       "      <td>Tug-Of-War</td>\n",
       "      <td>Tug-Of-War Men's Tug-Of-War</td>\n",
       "      <td>Gold</td>\n",
       "      <td>Denmark</td>\n",
       "    </tr>\n",
       "    <tr>\n",
       "      <th>4</th>\n",
       "      <td>5</td>\n",
       "      <td>Christine Jacoba Aaftink</td>\n",
       "      <td>F</td>\n",
       "      <td>21.0</td>\n",
       "      <td>185.0</td>\n",
       "      <td>82.0</td>\n",
       "      <td>Netherlands</td>\n",
       "      <td>NED</td>\n",
       "      <td>1988 Winter</td>\n",
       "      <td>1988</td>\n",
       "      <td>Winter</td>\n",
       "      <td>Calgary</td>\n",
       "      <td>Speed Skating</td>\n",
       "      <td>Speed Skating Women's 500 metres</td>\n",
       "      <td>No Medal</td>\n",
       "      <td>Netherlands</td>\n",
       "    </tr>\n",
       "  </tbody>\n",
       "</table>\n",
       "</div>"
      ],
      "text/plain": [
       "   ID                      Name Sex   Age  Height  Weight            Team  \\\n",
       "0   1                 A Dijiang   M  24.0   180.0    80.0           China   \n",
       "1   2                  A Lamusi   M  23.0   170.0    60.0           China   \n",
       "2   3       Gunnar Nielsen Aaby   M  24.0     NaN     NaN         Denmark   \n",
       "3   4      Edgar Lindenau Aabye   M  34.0     NaN     NaN  Denmark/Sweden   \n",
       "4   5  Christine Jacoba Aaftink   F  21.0   185.0    82.0     Netherlands   \n",
       "\n",
       "   NOC        Games  Year  Season       City          Sport  \\\n",
       "0  CHN  1992 Summer  1992  Summer  Barcelona     Basketball   \n",
       "1  CHN  2012 Summer  2012  Summer     London           Judo   \n",
       "2  DEN  1920 Summer  1920  Summer  Antwerpen       Football   \n",
       "3  DEN  1900 Summer  1900  Summer      Paris     Tug-Of-War   \n",
       "4  NED  1988 Winter  1988  Winter    Calgary  Speed Skating   \n",
       "\n",
       "                              Event     Medal      Country  \n",
       "0       Basketball Men's Basketball  No Medal        China  \n",
       "1      Judo Men's Extra-Lightweight  No Medal        China  \n",
       "2           Football Men's Football  No Medal      Denmark  \n",
       "3       Tug-Of-War Men's Tug-Of-War      Gold      Denmark  \n",
       "4  Speed Skating Women's 500 metres  No Medal  Netherlands  "
      ]
     },
     "execution_count": 8,
     "metadata": {},
     "output_type": "execute_result"
    }
   ],
   "source": [
    "olympics_merge = olympics.merge(regions, \n",
    "                                left_on = 'NOC', \n",
    "                                right_on = 'NOC',\n",
    "                                how = 'left')\n",
    "\n",
    "olympics_merge.head()"
   ]
  },
  {
   "cell_type": "markdown",
   "metadata": {},
   "source": [
    "Selanjutnya akan dicari data yang belum memiliki value Negara setelah di merge"
   ]
  },
  {
   "cell_type": "code",
   "execution_count": 9,
   "metadata": {},
   "outputs": [
    {
     "data": {
      "text/html": [
       "<div>\n",
       "<style scoped>\n",
       "    .dataframe tbody tr th:only-of-type {\n",
       "        vertical-align: middle;\n",
       "    }\n",
       "\n",
       "    .dataframe tbody tr th {\n",
       "        vertical-align: top;\n",
       "    }\n",
       "\n",
       "    .dataframe thead th {\n",
       "        text-align: right;\n",
       "    }\n",
       "</style>\n",
       "<table border=\"1\" class=\"dataframe\">\n",
       "  <thead>\n",
       "    <tr style=\"text-align: right;\">\n",
       "      <th></th>\n",
       "      <th>NOC</th>\n",
       "      <th>Team</th>\n",
       "    </tr>\n",
       "  </thead>\n",
       "  <tbody>\n",
       "    <tr>\n",
       "      <th>578</th>\n",
       "      <td>SGP</td>\n",
       "      <td>Singapore</td>\n",
       "    </tr>\n",
       "    <tr>\n",
       "      <th>6267</th>\n",
       "      <td>ROT</td>\n",
       "      <td>Refugee Olympic Athletes</td>\n",
       "    </tr>\n",
       "    <tr>\n",
       "      <th>44376</th>\n",
       "      <td>SGP</td>\n",
       "      <td>June Climene</td>\n",
       "    </tr>\n",
       "    <tr>\n",
       "      <th>61080</th>\n",
       "      <td>UNK</td>\n",
       "      <td>Unknown</td>\n",
       "    </tr>\n",
       "    <tr>\n",
       "      <th>64674</th>\n",
       "      <td>TUV</td>\n",
       "      <td>Tuvalu</td>\n",
       "    </tr>\n",
       "    <tr>\n",
       "      <th>80986</th>\n",
       "      <td>SGP</td>\n",
       "      <td>Rika II</td>\n",
       "    </tr>\n",
       "    <tr>\n",
       "      <th>108582</th>\n",
       "      <td>SGP</td>\n",
       "      <td>Singapore-2</td>\n",
       "    </tr>\n",
       "    <tr>\n",
       "      <th>235895</th>\n",
       "      <td>SGP</td>\n",
       "      <td>Singapore-1</td>\n",
       "    </tr>\n",
       "  </tbody>\n",
       "</table>\n",
       "</div>"
      ],
      "text/plain": [
       "        NOC                      Team\n",
       "578     SGP                 Singapore\n",
       "6267    ROT  Refugee Olympic Athletes\n",
       "44376   SGP              June Climene\n",
       "61080   UNK                   Unknown\n",
       "64674   TUV                    Tuvalu\n",
       "80986   SGP                   Rika II\n",
       "108582  SGP               Singapore-2\n",
       "235895  SGP               Singapore-1"
      ]
     },
     "execution_count": 9,
     "metadata": {},
     "output_type": "execute_result"
    }
   ],
   "source": [
    "olympics_merge.loc[olympics_merge['Country'].isnull(),['NOC', 'Team']].drop_duplicates()"
   ]
  },
  {
   "cell_type": "markdown",
   "metadata": {},
   "source": [
    "Lalu akan dimasukkan value ke Country secara manual, dengan ketentuan berikut\n",
    "1. SGP - Singapore\n",
    "2. ROT - Refugee Olympic Athletes\n",
    "3. UNK - Unknown\n",
    "4. TUV - Tuvalu\n"
   ]
  },
  {
   "cell_type": "code",
   "execution_count": 10,
   "metadata": {},
   "outputs": [],
   "source": [
    "olympics_merge['Country'] = np.where(olympics_merge['NOC']=='SGP', 'Singapore', olympics_merge['Country'])\n",
    "olympics_merge['Country'] = np.where(olympics_merge['NOC']=='ROT', 'Refugee Olympic Athletes', olympics_merge['Country'])\n",
    "olympics_merge['Country'] = np.where(olympics_merge['NOC']=='UNK', 'Unknown', olympics_merge['Country'])\n",
    "olympics_merge['Country'] = np.where(olympics_merge['NOC']=='TUV', 'Tuvalu', olympics_merge['Country'])\n",
    "\n",
    "olympics_merge.drop('Team', axis = 1, inplace = True)\n",
    "olympics_merge.rename(columns = {'Country': 'Team'}, inplace = True)"
   ]
  },
  {
   "cell_type": "markdown",
   "metadata": {},
   "source": [
    "2. Merge dengan data GDP (Gross Domestic Product)<br>\n",
    "dataset ini akan digunakan untuk mengetahui apakah ada pengaruh besarnya GDP terhadap perolehan medali. "
   ]
  },
  {
   "cell_type": "code",
   "execution_count": 11,
   "metadata": {},
   "outputs": [
    {
     "data": {
      "text/html": [
       "<div>\n",
       "<style scoped>\n",
       "    .dataframe tbody tr th:only-of-type {\n",
       "        vertical-align: middle;\n",
       "    }\n",
       "\n",
       "    .dataframe tbody tr th {\n",
       "        vertical-align: top;\n",
       "    }\n",
       "\n",
       "    .dataframe thead th {\n",
       "        text-align: right;\n",
       "    }\n",
       "</style>\n",
       "<table border=\"1\" class=\"dataframe\">\n",
       "  <thead>\n",
       "    <tr style=\"text-align: right;\">\n",
       "      <th></th>\n",
       "      <th>Country Name</th>\n",
       "      <th>Country Code</th>\n",
       "      <th>Tahun</th>\n",
       "      <th>GDP</th>\n",
       "    </tr>\n",
       "  </thead>\n",
       "  <tbody>\n",
       "    <tr>\n",
       "      <th>0</th>\n",
       "      <td>Afghanistan</td>\n",
       "      <td>AFG</td>\n",
       "      <td>1960</td>\n",
       "      <td>5.377778e+08</td>\n",
       "    </tr>\n",
       "    <tr>\n",
       "      <th>1</th>\n",
       "      <td>Albania</td>\n",
       "      <td>ALB</td>\n",
       "      <td>1960</td>\n",
       "      <td>NaN</td>\n",
       "    </tr>\n",
       "    <tr>\n",
       "      <th>2</th>\n",
       "      <td>Algeria</td>\n",
       "      <td>DZA</td>\n",
       "      <td>1960</td>\n",
       "      <td>2.723649e+09</td>\n",
       "    </tr>\n",
       "    <tr>\n",
       "      <th>3</th>\n",
       "      <td>American Samoa</td>\n",
       "      <td>ASM</td>\n",
       "      <td>1960</td>\n",
       "      <td>NaN</td>\n",
       "    </tr>\n",
       "    <tr>\n",
       "      <th>4</th>\n",
       "      <td>Andorra</td>\n",
       "      <td>AND</td>\n",
       "      <td>1960</td>\n",
       "      <td>NaN</td>\n",
       "    </tr>\n",
       "  </tbody>\n",
       "</table>\n",
       "</div>"
      ],
      "text/plain": [
       "     Country Name Country Code  Tahun           GDP\n",
       "0     Afghanistan          AFG   1960  5.377778e+08\n",
       "1         Albania          ALB   1960           NaN\n",
       "2         Algeria          DZA   1960  2.723649e+09\n",
       "3  American Samoa          ASM   1960           NaN\n",
       "4         Andorra          AND   1960           NaN"
      ]
     },
     "execution_count": 11,
     "metadata": {},
     "output_type": "execute_result"
    }
   ],
   "source": [
    "gdp_negara = pd.read_excel('world_gdp.xls')\n",
    "\n",
    "# Membuang kolom yang tidak dibutuhkan\n",
    "gdp_negara.drop(['Indicator Name', 'Indicator Code'], axis=1, inplace=True)\n",
    "\n",
    "#mengubah dataframe tersebut menjadi single kolom untuk tahun agar lebih efisien\n",
    "gdp_negara = pd.melt(gdp_negara, id_vars = ['Country Name', 'Country Code'],\n",
    "                var_name = 'Tahun', value_name = 'GDP')\n",
    "\n",
    "# mengubah kolom Tahun menjadi numerik\n",
    "gdp_negara['Tahun'] = pd.to_numeric(gdp_negara['Tahun'])\n",
    "\n",
    "gdp_negara.head()\n"
   ]
  },
  {
   "cell_type": "code",
   "execution_count": 12,
   "metadata": {},
   "outputs": [],
   "source": [
    "# Merge country code terlebih dahulu\n",
    "olympics_merge_gdp = olympics_merge.merge(gdp_negara[['Country Name', 'Country Code']].drop_duplicates(),\n",
    "                                         left_on = 'Team',\n",
    "                                         right_on = 'Country Name',\n",
    "                                         how = 'left')\n",
    "\n",
    "olympics_merge_gdp.drop('Country Name', axis = 1, inplace=True)\n",
    "\n",
    "# Selanjutnya merge GDP\n",
    "olympics_merge_gdp = olympics_merge_gdp.merge(gdp_negara,\n",
    "                                         left_on = ['Country Code', 'Year'],\n",
    "                                         right_on = ['Country Code', 'Tahun'],\n",
    "                                         how = 'left')\n",
    "\n",
    "olympics_merge_gdp.drop(['Country Name', 'Tahun'], axis = 1, inplace=True)"
   ]
  },
  {
   "cell_type": "code",
   "execution_count": 13,
   "metadata": {},
   "outputs": [
    {
     "data": {
      "text/html": [
       "<div>\n",
       "<style scoped>\n",
       "    .dataframe tbody tr th:only-of-type {\n",
       "        vertical-align: middle;\n",
       "    }\n",
       "\n",
       "    .dataframe tbody tr th {\n",
       "        vertical-align: top;\n",
       "    }\n",
       "\n",
       "    .dataframe thead th {\n",
       "        text-align: right;\n",
       "    }\n",
       "</style>\n",
       "<table border=\"1\" class=\"dataframe\">\n",
       "  <thead>\n",
       "    <tr style=\"text-align: right;\">\n",
       "      <th></th>\n",
       "      <th>ID</th>\n",
       "      <th>Name</th>\n",
       "      <th>Sex</th>\n",
       "      <th>Age</th>\n",
       "      <th>Height</th>\n",
       "      <th>Weight</th>\n",
       "      <th>NOC</th>\n",
       "      <th>Games</th>\n",
       "      <th>Year</th>\n",
       "      <th>Season</th>\n",
       "      <th>City</th>\n",
       "      <th>Sport</th>\n",
       "      <th>Event</th>\n",
       "      <th>Medal</th>\n",
       "      <th>Team</th>\n",
       "      <th>Country Code</th>\n",
       "      <th>GDP</th>\n",
       "    </tr>\n",
       "  </thead>\n",
       "  <tbody>\n",
       "    <tr>\n",
       "      <th>0</th>\n",
       "      <td>1</td>\n",
       "      <td>A Dijiang</td>\n",
       "      <td>M</td>\n",
       "      <td>24.0</td>\n",
       "      <td>180.0</td>\n",
       "      <td>80.0</td>\n",
       "      <td>CHN</td>\n",
       "      <td>1992 Summer</td>\n",
       "      <td>1992</td>\n",
       "      <td>Summer</td>\n",
       "      <td>Barcelona</td>\n",
       "      <td>Basketball</td>\n",
       "      <td>Basketball Men's Basketball</td>\n",
       "      <td>No Medal</td>\n",
       "      <td>China</td>\n",
       "      <td>CHN</td>\n",
       "      <td>4.269157e+11</td>\n",
       "    </tr>\n",
       "    <tr>\n",
       "      <th>1</th>\n",
       "      <td>2</td>\n",
       "      <td>A Lamusi</td>\n",
       "      <td>M</td>\n",
       "      <td>23.0</td>\n",
       "      <td>170.0</td>\n",
       "      <td>60.0</td>\n",
       "      <td>CHN</td>\n",
       "      <td>2012 Summer</td>\n",
       "      <td>2012</td>\n",
       "      <td>Summer</td>\n",
       "      <td>London</td>\n",
       "      <td>Judo</td>\n",
       "      <td>Judo Men's Extra-Lightweight</td>\n",
       "      <td>No Medal</td>\n",
       "      <td>China</td>\n",
       "      <td>CHN</td>\n",
       "      <td>8.560547e+12</td>\n",
       "    </tr>\n",
       "    <tr>\n",
       "      <th>2</th>\n",
       "      <td>3</td>\n",
       "      <td>Gunnar Nielsen Aaby</td>\n",
       "      <td>M</td>\n",
       "      <td>24.0</td>\n",
       "      <td>NaN</td>\n",
       "      <td>NaN</td>\n",
       "      <td>DEN</td>\n",
       "      <td>1920 Summer</td>\n",
       "      <td>1920</td>\n",
       "      <td>Summer</td>\n",
       "      <td>Antwerpen</td>\n",
       "      <td>Football</td>\n",
       "      <td>Football Men's Football</td>\n",
       "      <td>No Medal</td>\n",
       "      <td>Denmark</td>\n",
       "      <td>DNK</td>\n",
       "      <td>NaN</td>\n",
       "    </tr>\n",
       "    <tr>\n",
       "      <th>3</th>\n",
       "      <td>4</td>\n",
       "      <td>Edgar Lindenau Aabye</td>\n",
       "      <td>M</td>\n",
       "      <td>34.0</td>\n",
       "      <td>NaN</td>\n",
       "      <td>NaN</td>\n",
       "      <td>DEN</td>\n",
       "      <td>1900 Summer</td>\n",
       "      <td>1900</td>\n",
       "      <td>Summer</td>\n",
       "      <td>Paris</td>\n",
       "      <td>Tug-Of-War</td>\n",
       "      <td>Tug-Of-War Men's Tug-Of-War</td>\n",
       "      <td>Gold</td>\n",
       "      <td>Denmark</td>\n",
       "      <td>DNK</td>\n",
       "      <td>NaN</td>\n",
       "    </tr>\n",
       "    <tr>\n",
       "      <th>4</th>\n",
       "      <td>5</td>\n",
       "      <td>Christine Jacoba Aaftink</td>\n",
       "      <td>F</td>\n",
       "      <td>21.0</td>\n",
       "      <td>185.0</td>\n",
       "      <td>82.0</td>\n",
       "      <td>NED</td>\n",
       "      <td>1988 Winter</td>\n",
       "      <td>1988</td>\n",
       "      <td>Winter</td>\n",
       "      <td>Calgary</td>\n",
       "      <td>Speed Skating</td>\n",
       "      <td>Speed Skating Women's 500 metres</td>\n",
       "      <td>No Medal</td>\n",
       "      <td>Netherlands</td>\n",
       "      <td>NLD</td>\n",
       "      <td>2.585678e+11</td>\n",
       "    </tr>\n",
       "  </tbody>\n",
       "</table>\n",
       "</div>"
      ],
      "text/plain": [
       "   ID                      Name Sex   Age  Height  Weight  NOC        Games  \\\n",
       "0   1                 A Dijiang   M  24.0   180.0    80.0  CHN  1992 Summer   \n",
       "1   2                  A Lamusi   M  23.0   170.0    60.0  CHN  2012 Summer   \n",
       "2   3       Gunnar Nielsen Aaby   M  24.0     NaN     NaN  DEN  1920 Summer   \n",
       "3   4      Edgar Lindenau Aabye   M  34.0     NaN     NaN  DEN  1900 Summer   \n",
       "4   5  Christine Jacoba Aaftink   F  21.0   185.0    82.0  NED  1988 Winter   \n",
       "\n",
       "   Year  Season       City          Sport                             Event  \\\n",
       "0  1992  Summer  Barcelona     Basketball       Basketball Men's Basketball   \n",
       "1  2012  Summer     London           Judo      Judo Men's Extra-Lightweight   \n",
       "2  1920  Summer  Antwerpen       Football           Football Men's Football   \n",
       "3  1900  Summer      Paris     Tug-Of-War       Tug-Of-War Men's Tug-Of-War   \n",
       "4  1988  Winter    Calgary  Speed Skating  Speed Skating Women's 500 metres   \n",
       "\n",
       "      Medal         Team Country Code           GDP  \n",
       "0  No Medal        China          CHN  4.269157e+11  \n",
       "1  No Medal        China          CHN  8.560547e+12  \n",
       "2  No Medal      Denmark          DNK           NaN  \n",
       "3      Gold      Denmark          DNK           NaN  \n",
       "4  No Medal  Netherlands          NLD  2.585678e+11  "
      ]
     },
     "execution_count": 13,
     "metadata": {},
     "output_type": "execute_result"
    }
   ],
   "source": [
    "olympics_merge_gdp.head()"
   ]
  },
  {
   "cell_type": "markdown",
   "metadata": {},
   "source": [
    "# Memfilter data"
   ]
  },
  {
   "cell_type": "markdown",
   "metadata": {},
   "source": [
    " Project ini akan dibatasi pada penyelenggaraan <b>Olimpiade Musim Panas Rio 2016</b>"
   ]
  },
  {
   "cell_type": "code",
   "execution_count": 14,
   "metadata": {},
   "outputs": [
    {
     "data": {
      "text/html": [
       "<div>\n",
       "<style scoped>\n",
       "    .dataframe tbody tr th:only-of-type {\n",
       "        vertical-align: middle;\n",
       "    }\n",
       "\n",
       "    .dataframe tbody tr th {\n",
       "        vertical-align: top;\n",
       "    }\n",
       "\n",
       "    .dataframe thead th {\n",
       "        text-align: right;\n",
       "    }\n",
       "</style>\n",
       "<table border=\"1\" class=\"dataframe\">\n",
       "  <thead>\n",
       "    <tr style=\"text-align: right;\">\n",
       "      <th></th>\n",
       "      <th>ID</th>\n",
       "      <th>Name</th>\n",
       "      <th>Sex</th>\n",
       "      <th>Age</th>\n",
       "      <th>Height</th>\n",
       "      <th>Weight</th>\n",
       "      <th>NOC</th>\n",
       "      <th>Games</th>\n",
       "      <th>Year</th>\n",
       "      <th>Season</th>\n",
       "      <th>City</th>\n",
       "      <th>Sport</th>\n",
       "      <th>Event</th>\n",
       "      <th>Medal</th>\n",
       "      <th>Team</th>\n",
       "      <th>Country Code</th>\n",
       "      <th>GDP</th>\n",
       "    </tr>\n",
       "  </thead>\n",
       "  <tbody>\n",
       "    <tr>\n",
       "      <th>0</th>\n",
       "      <td>22</td>\n",
       "      <td>Andreea Aanei</td>\n",
       "      <td>F</td>\n",
       "      <td>22.0</td>\n",
       "      <td>170.0</td>\n",
       "      <td>125.0</td>\n",
       "      <td>ROU</td>\n",
       "      <td>2016 Summer</td>\n",
       "      <td>2016</td>\n",
       "      <td>Summer</td>\n",
       "      <td>Rio de Janeiro</td>\n",
       "      <td>Weightlifting</td>\n",
       "      <td>Weightlifting Women's Super-Heavyweight</td>\n",
       "      <td>No Medal</td>\n",
       "      <td>Romania</td>\n",
       "      <td>ROU</td>\n",
       "      <td>1.875920e+11</td>\n",
       "    </tr>\n",
       "    <tr>\n",
       "      <th>1</th>\n",
       "      <td>51</td>\n",
       "      <td>Nstor Abad Sanjun</td>\n",
       "      <td>M</td>\n",
       "      <td>23.0</td>\n",
       "      <td>167.0</td>\n",
       "      <td>64.0</td>\n",
       "      <td>ESP</td>\n",
       "      <td>2016 Summer</td>\n",
       "      <td>2016</td>\n",
       "      <td>Summer</td>\n",
       "      <td>Rio de Janeiro</td>\n",
       "      <td>Gymnastics</td>\n",
       "      <td>Gymnastics Men's Individual All-Around</td>\n",
       "      <td>No Medal</td>\n",
       "      <td>Spain</td>\n",
       "      <td>ESP</td>\n",
       "      <td>1.237255e+12</td>\n",
       "    </tr>\n",
       "    <tr>\n",
       "      <th>2</th>\n",
       "      <td>51</td>\n",
       "      <td>Nstor Abad Sanjun</td>\n",
       "      <td>M</td>\n",
       "      <td>23.0</td>\n",
       "      <td>167.0</td>\n",
       "      <td>64.0</td>\n",
       "      <td>ESP</td>\n",
       "      <td>2016 Summer</td>\n",
       "      <td>2016</td>\n",
       "      <td>Summer</td>\n",
       "      <td>Rio de Janeiro</td>\n",
       "      <td>Gymnastics</td>\n",
       "      <td>Gymnastics Men's Floor Exercise</td>\n",
       "      <td>No Medal</td>\n",
       "      <td>Spain</td>\n",
       "      <td>ESP</td>\n",
       "      <td>1.237255e+12</td>\n",
       "    </tr>\n",
       "    <tr>\n",
       "      <th>3</th>\n",
       "      <td>51</td>\n",
       "      <td>Nstor Abad Sanjun</td>\n",
       "      <td>M</td>\n",
       "      <td>23.0</td>\n",
       "      <td>167.0</td>\n",
       "      <td>64.0</td>\n",
       "      <td>ESP</td>\n",
       "      <td>2016 Summer</td>\n",
       "      <td>2016</td>\n",
       "      <td>Summer</td>\n",
       "      <td>Rio de Janeiro</td>\n",
       "      <td>Gymnastics</td>\n",
       "      <td>Gymnastics Men's Parallel Bars</td>\n",
       "      <td>No Medal</td>\n",
       "      <td>Spain</td>\n",
       "      <td>ESP</td>\n",
       "      <td>1.237255e+12</td>\n",
       "    </tr>\n",
       "    <tr>\n",
       "      <th>4</th>\n",
       "      <td>51</td>\n",
       "      <td>Nstor Abad Sanjun</td>\n",
       "      <td>M</td>\n",
       "      <td>23.0</td>\n",
       "      <td>167.0</td>\n",
       "      <td>64.0</td>\n",
       "      <td>ESP</td>\n",
       "      <td>2016 Summer</td>\n",
       "      <td>2016</td>\n",
       "      <td>Summer</td>\n",
       "      <td>Rio de Janeiro</td>\n",
       "      <td>Gymnastics</td>\n",
       "      <td>Gymnastics Men's Horizontal Bar</td>\n",
       "      <td>No Medal</td>\n",
       "      <td>Spain</td>\n",
       "      <td>ESP</td>\n",
       "      <td>1.237255e+12</td>\n",
       "    </tr>\n",
       "  </tbody>\n",
       "</table>\n",
       "</div>"
      ],
      "text/plain": [
       "   ID               Name Sex   Age  Height  Weight  NOC        Games  Year  \\\n",
       "0  22      Andreea Aanei   F  22.0   170.0   125.0  ROU  2016 Summer  2016   \n",
       "1  51  Nstor Abad Sanjun   M  23.0   167.0    64.0  ESP  2016 Summer  2016   \n",
       "2  51  Nstor Abad Sanjun   M  23.0   167.0    64.0  ESP  2016 Summer  2016   \n",
       "3  51  Nstor Abad Sanjun   M  23.0   167.0    64.0  ESP  2016 Summer  2016   \n",
       "4  51  Nstor Abad Sanjun   M  23.0   167.0    64.0  ESP  2016 Summer  2016   \n",
       "\n",
       "   Season            City          Sport  \\\n",
       "0  Summer  Rio de Janeiro  Weightlifting   \n",
       "1  Summer  Rio de Janeiro     Gymnastics   \n",
       "2  Summer  Rio de Janeiro     Gymnastics   \n",
       "3  Summer  Rio de Janeiro     Gymnastics   \n",
       "4  Summer  Rio de Janeiro     Gymnastics   \n",
       "\n",
       "                                     Event     Medal     Team Country Code  \\\n",
       "0  Weightlifting Women's Super-Heavyweight  No Medal  Romania          ROU   \n",
       "1   Gymnastics Men's Individual All-Around  No Medal    Spain          ESP   \n",
       "2          Gymnastics Men's Floor Exercise  No Medal    Spain          ESP   \n",
       "3           Gymnastics Men's Parallel Bars  No Medal    Spain          ESP   \n",
       "4          Gymnastics Men's Horizontal Bar  No Medal    Spain          ESP   \n",
       "\n",
       "            GDP  \n",
       "0  1.875920e+11  \n",
       "1  1.237255e+12  \n",
       "2  1.237255e+12  \n",
       "3  1.237255e+12  \n",
       "4  1.237255e+12  "
      ]
     },
     "execution_count": 14,
     "metadata": {},
     "output_type": "execute_result"
    }
   ],
   "source": [
    "olympic_Rio = olympics_merge_gdp.loc[(olympics_merge_gdp['Year'] == 2016), :]\n",
    "\n",
    "olympic_Rio = olympic_Rio.reset_index()\n",
    "olympic_Rio.drop('index', axis = 1, inplace=True)\n",
    "olympic_Rio.head()"
   ]
  },
  {
   "cell_type": "markdown",
   "metadata": {},
   "source": [
    "Selanjutnya, menghitung jumlah total perolehan medali, baik Emas, Perak, maupun Perunggu. Pertama, membuat kolom baru\n",
    "yang berisi apakah Tim mendapatkan medali atau tidak, jika iya maka 1 jika tidak maka 0"
   ]
  },
  {
   "cell_type": "code",
   "execution_count": 15,
   "metadata": {},
   "outputs": [
    {
     "data": {
      "text/html": [
       "<div>\n",
       "<style scoped>\n",
       "    .dataframe tbody tr th:only-of-type {\n",
       "        vertical-align: middle;\n",
       "    }\n",
       "\n",
       "    .dataframe tbody tr th {\n",
       "        vertical-align: top;\n",
       "    }\n",
       "\n",
       "    .dataframe thead th {\n",
       "        text-align: right;\n",
       "    }\n",
       "</style>\n",
       "<table border=\"1\" class=\"dataframe\">\n",
       "  <thead>\n",
       "    <tr style=\"text-align: right;\">\n",
       "      <th></th>\n",
       "      <th>ID</th>\n",
       "      <th>Name</th>\n",
       "      <th>Sex</th>\n",
       "      <th>Age</th>\n",
       "      <th>Height</th>\n",
       "      <th>Weight</th>\n",
       "      <th>NOC</th>\n",
       "      <th>Games</th>\n",
       "      <th>Year</th>\n",
       "      <th>Season</th>\n",
       "      <th>City</th>\n",
       "      <th>Sport</th>\n",
       "      <th>Event</th>\n",
       "      <th>Medal</th>\n",
       "      <th>Team</th>\n",
       "      <th>Country Code</th>\n",
       "      <th>GDP</th>\n",
       "      <th>Medali</th>\n",
       "    </tr>\n",
       "  </thead>\n",
       "  <tbody>\n",
       "    <tr>\n",
       "      <th>0</th>\n",
       "      <td>22</td>\n",
       "      <td>Andreea Aanei</td>\n",
       "      <td>F</td>\n",
       "      <td>22.0</td>\n",
       "      <td>170.0</td>\n",
       "      <td>125.0</td>\n",
       "      <td>ROU</td>\n",
       "      <td>2016 Summer</td>\n",
       "      <td>2016</td>\n",
       "      <td>Summer</td>\n",
       "      <td>Rio de Janeiro</td>\n",
       "      <td>Weightlifting</td>\n",
       "      <td>Weightlifting Women's Super-Heavyweight</td>\n",
       "      <td>No Medal</td>\n",
       "      <td>Romania</td>\n",
       "      <td>ROU</td>\n",
       "      <td>1.875920e+11</td>\n",
       "      <td>0</td>\n",
       "    </tr>\n",
       "    <tr>\n",
       "      <th>1</th>\n",
       "      <td>51</td>\n",
       "      <td>Nstor Abad Sanjun</td>\n",
       "      <td>M</td>\n",
       "      <td>23.0</td>\n",
       "      <td>167.0</td>\n",
       "      <td>64.0</td>\n",
       "      <td>ESP</td>\n",
       "      <td>2016 Summer</td>\n",
       "      <td>2016</td>\n",
       "      <td>Summer</td>\n",
       "      <td>Rio de Janeiro</td>\n",
       "      <td>Gymnastics</td>\n",
       "      <td>Gymnastics Men's Individual All-Around</td>\n",
       "      <td>No Medal</td>\n",
       "      <td>Spain</td>\n",
       "      <td>ESP</td>\n",
       "      <td>1.237255e+12</td>\n",
       "      <td>0</td>\n",
       "    </tr>\n",
       "    <tr>\n",
       "      <th>2</th>\n",
       "      <td>51</td>\n",
       "      <td>Nstor Abad Sanjun</td>\n",
       "      <td>M</td>\n",
       "      <td>23.0</td>\n",
       "      <td>167.0</td>\n",
       "      <td>64.0</td>\n",
       "      <td>ESP</td>\n",
       "      <td>2016 Summer</td>\n",
       "      <td>2016</td>\n",
       "      <td>Summer</td>\n",
       "      <td>Rio de Janeiro</td>\n",
       "      <td>Gymnastics</td>\n",
       "      <td>Gymnastics Men's Floor Exercise</td>\n",
       "      <td>No Medal</td>\n",
       "      <td>Spain</td>\n",
       "      <td>ESP</td>\n",
       "      <td>1.237255e+12</td>\n",
       "      <td>0</td>\n",
       "    </tr>\n",
       "    <tr>\n",
       "      <th>3</th>\n",
       "      <td>51</td>\n",
       "      <td>Nstor Abad Sanjun</td>\n",
       "      <td>M</td>\n",
       "      <td>23.0</td>\n",
       "      <td>167.0</td>\n",
       "      <td>64.0</td>\n",
       "      <td>ESP</td>\n",
       "      <td>2016 Summer</td>\n",
       "      <td>2016</td>\n",
       "      <td>Summer</td>\n",
       "      <td>Rio de Janeiro</td>\n",
       "      <td>Gymnastics</td>\n",
       "      <td>Gymnastics Men's Parallel Bars</td>\n",
       "      <td>No Medal</td>\n",
       "      <td>Spain</td>\n",
       "      <td>ESP</td>\n",
       "      <td>1.237255e+12</td>\n",
       "      <td>0</td>\n",
       "    </tr>\n",
       "    <tr>\n",
       "      <th>4</th>\n",
       "      <td>51</td>\n",
       "      <td>Nstor Abad Sanjun</td>\n",
       "      <td>M</td>\n",
       "      <td>23.0</td>\n",
       "      <td>167.0</td>\n",
       "      <td>64.0</td>\n",
       "      <td>ESP</td>\n",
       "      <td>2016 Summer</td>\n",
       "      <td>2016</td>\n",
       "      <td>Summer</td>\n",
       "      <td>Rio de Janeiro</td>\n",
       "      <td>Gymnastics</td>\n",
       "      <td>Gymnastics Men's Horizontal Bar</td>\n",
       "      <td>No Medal</td>\n",
       "      <td>Spain</td>\n",
       "      <td>ESP</td>\n",
       "      <td>1.237255e+12</td>\n",
       "      <td>0</td>\n",
       "    </tr>\n",
       "  </tbody>\n",
       "</table>\n",
       "</div>"
      ],
      "text/plain": [
       "   ID               Name Sex   Age  Height  Weight  NOC        Games  Year  \\\n",
       "0  22      Andreea Aanei   F  22.0   170.0   125.0  ROU  2016 Summer  2016   \n",
       "1  51  Nstor Abad Sanjun   M  23.0   167.0    64.0  ESP  2016 Summer  2016   \n",
       "2  51  Nstor Abad Sanjun   M  23.0   167.0    64.0  ESP  2016 Summer  2016   \n",
       "3  51  Nstor Abad Sanjun   M  23.0   167.0    64.0  ESP  2016 Summer  2016   \n",
       "4  51  Nstor Abad Sanjun   M  23.0   167.0    64.0  ESP  2016 Summer  2016   \n",
       "\n",
       "   Season            City          Sport  \\\n",
       "0  Summer  Rio de Janeiro  Weightlifting   \n",
       "1  Summer  Rio de Janeiro     Gymnastics   \n",
       "2  Summer  Rio de Janeiro     Gymnastics   \n",
       "3  Summer  Rio de Janeiro     Gymnastics   \n",
       "4  Summer  Rio de Janeiro     Gymnastics   \n",
       "\n",
       "                                     Event     Medal     Team Country Code  \\\n",
       "0  Weightlifting Women's Super-Heavyweight  No Medal  Romania          ROU   \n",
       "1   Gymnastics Men's Individual All-Around  No Medal    Spain          ESP   \n",
       "2          Gymnastics Men's Floor Exercise  No Medal    Spain          ESP   \n",
       "3           Gymnastics Men's Parallel Bars  No Medal    Spain          ESP   \n",
       "4          Gymnastics Men's Horizontal Bar  No Medal    Spain          ESP   \n",
       "\n",
       "            GDP  Medali  \n",
       "0  1.875920e+11       0  \n",
       "1  1.237255e+12       0  \n",
       "2  1.237255e+12       0  \n",
       "3  1.237255e+12       0  \n",
       "4  1.237255e+12       0  "
      ]
     },
     "execution_count": 15,
     "metadata": {},
     "output_type": "execute_result"
    }
   ],
   "source": [
    "olympic_Rio['Medali'] = np.where(olympic_Rio.loc[:,'Medal'] == 'No Medal', 0, 1)\n",
    "\n",
    "olympic_Rio.head()"
   ]
  },
  {
   "cell_type": "markdown",
   "metadata": {},
   "source": [
    "# Menghitung jumlah atlit dan perolehan medali setiap negara"
   ]
  },
  {
   "cell_type": "markdown",
   "metadata": {},
   "source": [
    "Dalam Olimpiade ini setiap peserta dapat mengikuti lebih dari satu cabang olahraga, oleh karena itu data atlit yang mengikuti lebih dari satu cabang olahraga perlu di drop terlebih dahulu sebelum menghitung jumlah atlit setiap negara"
   ]
  },
  {
   "cell_type": "code",
   "execution_count": 16,
   "metadata": {},
   "outputs": [
    {
     "data": {
      "text/html": [
       "<div>\n",
       "<style scoped>\n",
       "    .dataframe tbody tr th:only-of-type {\n",
       "        vertical-align: middle;\n",
       "    }\n",
       "\n",
       "    .dataframe tbody tr th {\n",
       "        vertical-align: top;\n",
       "    }\n",
       "\n",
       "    .dataframe thead th {\n",
       "        text-align: right;\n",
       "    }\n",
       "</style>\n",
       "<table border=\"1\" class=\"dataframe\">\n",
       "  <thead>\n",
       "    <tr style=\"text-align: right;\">\n",
       "      <th></th>\n",
       "      <th>Team</th>\n",
       "      <th>Atlit</th>\n",
       "    </tr>\n",
       "  </thead>\n",
       "  <tbody>\n",
       "    <tr>\n",
       "      <th>192</th>\n",
       "      <td>USA</td>\n",
       "      <td>555</td>\n",
       "    </tr>\n",
       "    <tr>\n",
       "      <th>26</th>\n",
       "      <td>Brazil</td>\n",
       "      <td>462</td>\n",
       "    </tr>\n",
       "    <tr>\n",
       "      <th>39</th>\n",
       "      <td>China</td>\n",
       "      <td>427</td>\n",
       "    </tr>\n",
       "    <tr>\n",
       "      <th>10</th>\n",
       "      <td>Australia</td>\n",
       "      <td>420</td>\n",
       "    </tr>\n",
       "    <tr>\n",
       "      <th>66</th>\n",
       "      <td>Germany</td>\n",
       "      <td>417</td>\n",
       "    </tr>\n",
       "  </tbody>\n",
       "</table>\n",
       "</div>"
      ],
      "text/plain": [
       "          Team  Atlit\n",
       "192        USA    555\n",
       "26      Brazil    462\n",
       "39       China    427\n",
       "10   Australia    420\n",
       "66     Germany    417"
      ]
     },
     "execution_count": 16,
     "metadata": {},
     "output_type": "execute_result"
    }
   ],
   "source": [
    "olympic_Rio_Atlit = olympic_Rio.drop_duplicates(subset = 'Name')\n",
    "\n",
    "olympic_Rio_Atlit = olympic_Rio_Atlit.groupby(['Team']).size().reset_index(name= 'Atlit').sort_values(by=['Atlit'],\n",
    "                                                                                                      ascending=False)\n",
    "olympic_Rio_Atlit.head()"
   ]
  },
  {
   "cell_type": "markdown",
   "metadata": {},
   "source": [
    "Selanjutnya menghitung jumlah medali yang didapatkan, perlu diketahui bahwa juara cabang olahraga beregu dihitung hanya mendapatkan 1 medali, oleh karena itu perlu mengetahui cabang olahraga mana saja yang beregu dan individu kemudian mengetahui jumlah medalinya"
   ]
  },
  {
   "cell_type": "code",
   "execution_count": 17,
   "metadata": {},
   "outputs": [
    {
     "data": {
      "text/html": [
       "<div>\n",
       "<style scoped>\n",
       "    .dataframe tbody tr th:only-of-type {\n",
       "        vertical-align: middle;\n",
       "    }\n",
       "\n",
       "    .dataframe tbody tr th {\n",
       "        vertical-align: top;\n",
       "    }\n",
       "\n",
       "    .dataframe thead th {\n",
       "        text-align: right;\n",
       "    }\n",
       "</style>\n",
       "<table border=\"1\" class=\"dataframe\">\n",
       "  <thead>\n",
       "    <tr style=\"text-align: right;\">\n",
       "      <th></th>\n",
       "      <th>Team</th>\n",
       "      <th>Medali</th>\n",
       "    </tr>\n",
       "  </thead>\n",
       "  <tbody>\n",
       "    <tr>\n",
       "      <th>77</th>\n",
       "      <td>USA</td>\n",
       "      <td>79</td>\n",
       "    </tr>\n",
       "    <tr>\n",
       "      <th>76</th>\n",
       "      <td>UK</td>\n",
       "      <td>49</td>\n",
       "    </tr>\n",
       "    <tr>\n",
       "      <th>12</th>\n",
       "      <td>China</td>\n",
       "      <td>48</td>\n",
       "    </tr>\n",
       "    <tr>\n",
       "      <th>61</th>\n",
       "      <td>Russia</td>\n",
       "      <td>46</td>\n",
       "    </tr>\n",
       "    <tr>\n",
       "      <th>39</th>\n",
       "      <td>Japan</td>\n",
       "      <td>36</td>\n",
       "    </tr>\n",
       "  </tbody>\n",
       "</table>\n",
       "</div>"
      ],
      "text/plain": [
       "      Team  Medali\n",
       "77     USA      79\n",
       "76      UK      49\n",
       "12   China      48\n",
       "61  Russia      46\n",
       "39   Japan      36"
      ]
     },
     "execution_count": 17,
     "metadata": {},
     "output_type": "execute_result"
    }
   ],
   "source": [
    "olympic_Rio_Medali = olympic_Rio[['Team','Event','Medali']].drop_duplicates(subset=['Team', 'Event'])\n",
    "\n",
    "olympic_Rio_Medali.drop(olympic_Rio_Medali[olympic_Rio_Medali['Medali']==0].index, inplace=True)\n",
    "\n",
    "olympic_Rio_Medali = olympic_Rio_Medali.groupby(['Team']).size().reset_index(name='Medali').sort_values(by=['Medali'],\n",
    "                                                                                                       ascending=False)\n",
    "olympic_Rio_Medali.head()"
   ]
  },
  {
   "cell_type": "markdown",
   "metadata": {},
   "source": [
    "Selanjutnya merge data atlit, medali, dan GDP"
   ]
  },
  {
   "cell_type": "code",
   "execution_count": 18,
   "metadata": {},
   "outputs": [
    {
     "data": {
      "text/html": [
       "<div>\n",
       "<style scoped>\n",
       "    .dataframe tbody tr th:only-of-type {\n",
       "        vertical-align: middle;\n",
       "    }\n",
       "\n",
       "    .dataframe tbody tr th {\n",
       "        vertical-align: top;\n",
       "    }\n",
       "\n",
       "    .dataframe thead th {\n",
       "        text-align: right;\n",
       "    }\n",
       "</style>\n",
       "<table border=\"1\" class=\"dataframe\">\n",
       "  <thead>\n",
       "    <tr style=\"text-align: right;\">\n",
       "      <th></th>\n",
       "      <th>Team</th>\n",
       "      <th>Atlit</th>\n",
       "      <th>Medali</th>\n",
       "      <th>GDP</th>\n",
       "    </tr>\n",
       "  </thead>\n",
       "  <tbody>\n",
       "    <tr>\n",
       "      <th>13678</th>\n",
       "      <td>Chad</td>\n",
       "      <td>2</td>\n",
       "      <td>NaN</td>\n",
       "      <td>9.600761e+09</td>\n",
       "    </tr>\n",
       "    <tr>\n",
       "      <th>13680</th>\n",
       "      <td>Nauru</td>\n",
       "      <td>2</td>\n",
       "      <td>NaN</td>\n",
       "      <td>1.020601e+08</td>\n",
       "    </tr>\n",
       "    <tr>\n",
       "      <th>13682</th>\n",
       "      <td>Dominica</td>\n",
       "      <td>2</td>\n",
       "      <td>NaN</td>\n",
       "      <td>5.814840e+08</td>\n",
       "    </tr>\n",
       "    <tr>\n",
       "      <th>13684</th>\n",
       "      <td>Swaziland</td>\n",
       "      <td>2</td>\n",
       "      <td>NaN</td>\n",
       "      <td>3.720649e+09</td>\n",
       "    </tr>\n",
       "    <tr>\n",
       "      <th>13686</th>\n",
       "      <td>Tuvalu</td>\n",
       "      <td>1</td>\n",
       "      <td>NaN</td>\n",
       "      <td>3.421888e+07</td>\n",
       "    </tr>\n",
       "    <tr>\n",
       "      <th>13687</th>\n",
       "      <td>Equatorial Guinea</td>\n",
       "      <td>1</td>\n",
       "      <td>NaN</td>\n",
       "      <td>1.068480e+10</td>\n",
       "    </tr>\n",
       "  </tbody>\n",
       "</table>\n",
       "</div>"
      ],
      "text/plain": [
       "                    Team  Atlit  Medali           GDP\n",
       "13678               Chad      2     NaN  9.600761e+09\n",
       "13680              Nauru      2     NaN  1.020601e+08\n",
       "13682           Dominica      2     NaN  5.814840e+08\n",
       "13684          Swaziland      2     NaN  3.720649e+09\n",
       "13686             Tuvalu      1     NaN  3.421888e+07\n",
       "13687  Equatorial Guinea      1     NaN  1.068480e+10"
      ]
     },
     "execution_count": 18,
     "metadata": {},
     "output_type": "execute_result"
    }
   ],
   "source": [
    "Rio_Atlit_Medali = olympic_Rio_Atlit.merge(olympic_Rio_Medali, \n",
    "                                left_on = 'Team', \n",
    "                                right_on = 'Team',\n",
    "                                how = 'left')\n",
    "\n",
    "\n",
    "\n",
    "Rio_Atlit_Medali_GDP = Rio_Atlit_Medali.merge(olympic_Rio[['Team','GDP']], \n",
    "                                left_on = 'Team', \n",
    "                                right_on = 'Team',\n",
    "                                how = 'left').drop_duplicates()\n",
    "\n",
    "Rio_Atlit_Medali_GDP.iloc[200:250,:]"
   ]
  },
  {
   "cell_type": "markdown",
   "metadata": {},
   "source": [
    "Terakhir, mengisi data null dengan 0"
   ]
  },
  {
   "cell_type": "code",
   "execution_count": 19,
   "metadata": {},
   "outputs": [
    {
     "name": "stdout",
     "output_type": "stream",
     "text": [
      "Team      0\n",
      "Atlit     0\n",
      "Medali    0\n",
      "GDP       0\n",
      "dtype: int64\n"
     ]
    }
   ],
   "source": [
    "Rio_Atlit_Medali_GDP['Medali'].fillna(0, inplace = True)\n",
    "Rio_Atlit_Medali_GDP['GDP'].fillna(0, inplace = True)\n",
    "\n",
    "print(Rio_Atlit_Medali_GDP.isnull().sum())"
   ]
  },
  {
   "cell_type": "code",
   "execution_count": null,
   "metadata": {},
   "outputs": [],
   "source": []
  },
  {
   "cell_type": "markdown",
   "metadata": {},
   "source": [
    "# Soal 01 - Membuat Scatter Plot"
   ]
  },
  {
   "cell_type": "markdown",
   "metadata": {},
   "source": [
    "Pada project ini akan dianalisa pengaruh **jumlah Atlit** , dan **jumlah GDP** terhadap **jumlah perolehan medali**"
   ]
  },
  {
   "cell_type": "code",
   "execution_count": 20,
   "metadata": {},
   "outputs": [
    {
     "data": {
      "image/png": "[encoded data removed]",
      "text/plain": [
       "<Figure size 432x288 with 1 Axes>"
      ]
     },
     "metadata": {
      "needs_background": "light"
     },
     "output_type": "display_data"
    }
   ],
   "source": [
    "plot.scatter(Rio_Atlit_Medali_GDP['Atlit'], Rio_Atlit_Medali_GDP['Medali'])\n",
    "plot.xlabel('Jumlah Atlit')\n",
    "plot.ylabel('Medali')\n",
    "plot.show()"
   ]
  },
  {
   "cell_type": "code",
   "execution_count": 21,
   "metadata": {},
   "outputs": [
    {
     "data": {
      "image/png": "[encoded data removed]",
      "text/plain": [
       "<Figure size 432x288 with 1 Axes>"
      ]
     },
     "metadata": {
      "needs_background": "light"
     },
     "output_type": "display_data"
    }
   ],
   "source": [
    "plot.scatter(Rio_Atlit_Medali_GDP['GDP'], Rio_Atlit_Medali_GDP['Medali'])\n",
    "plot.xlabel('GDP')\n",
    "plot.ylabel('Medali')\n",
    "plot.show()"
   ]
  },
  {
   "cell_type": "code",
   "execution_count": 22,
   "metadata": {},
   "outputs": [
    {
     "data": {
      "text/plain": [
       "<seaborn.axisgrid.PairGrid at 0x2520105e6d8>"
      ]
     },
     "execution_count": 22,
     "metadata": {},
     "output_type": "execute_result"
    },
    {
     "data": {
      "image/png": "[encoded data removed]",
      "text/plain": [
       "<Figure size 540x540 with 12 Axes>"
      ]
     },
     "metadata": {
      "needs_background": "light"
     },
     "output_type": "display_data"
    }
   ],
   "source": [
    "ftr = ['Atlit', 'Medali', 'GDP'] # Memilih fitur\n",
    "\n",
    "datas = Rio_Atlit_Medali_GDP[ftr]\n",
    "\n",
    "sns.pairplot(datas)"
   ]
  },
  {
   "cell_type": "markdown",
   "metadata": {},
   "source": [
    "# Soal 02 - Menduga 2 Features yang Berkorelasi Kuat"
   ]
  },
  {
   "cell_type": "code",
   "execution_count": 23,
   "metadata": {},
   "outputs": [
    {
     "data": {
      "image/png": "[encoded data removed]",
      "text/plain": [
       "<Figure size 720x576 with 2 Axes>"
      ]
     },
     "metadata": {
      "needs_background": "light"
     },
     "output_type": "display_data"
    }
   ],
   "source": [
    "corr = datas.corr()\n",
    "fig, ax = plot.subplots(figsize=(10, 8)) # Ukuran grafik\n",
    "\n",
    "# Membuat Heat Map, yang bisa diberi anotasi dan nilai\n",
    "sns.heatmap(corr, cmap='coolwarm', annot=True, fmt=\".2f\")\n",
    "\n",
    "plot.xticks(range(len(corr.columns)), corr.columns) # Memberi label X\n",
    "plot.yticks(range(len(corr.columns)), corr.columns) # Memberi label Y\n",
    "plot.title(\"HeatMap dari Correlation Coefficient\\n\", fontsize= 20)\n",
    "\n",
    "plot.show()"
   ]
  },
  {
   "cell_type": "code",
   "execution_count": 24,
   "metadata": {},
   "outputs": [
    {
     "data": {
      "image/png": "[encoded data removed]",
      "text/plain": [
       "<Figure size 432x288 with 1 Axes>"
      ]
     },
     "metadata": {
      "needs_background": "light"
     },
     "output_type": "display_data"
    }
   ],
   "source": [
    "plot.scatter(Rio_Atlit_Medali_GDP['GDP'], Rio_Atlit_Medali_GDP['Medali'])\n",
    "plot.xlabel('GDP')\n",
    "plot.ylabel('Medali')\n",
    "plot.show()"
   ]
  },
  {
   "cell_type": "code",
   "execution_count": 25,
   "metadata": {},
   "outputs": [
    {
     "data": {
      "image/png": "[encoded data removed]",
      "text/plain": [
       "<Figure size 432x288 with 1 Axes>"
      ]
     },
     "metadata": {
      "needs_background": "light"
     },
     "output_type": "display_data"
    }
   ],
   "source": [
    "plot.scatter(Rio_Atlit_Medali_GDP['Atlit'], Rio_Atlit_Medali_GDP['Medali'])\n",
    "plot.xlabel('Jumlah Atlit')\n",
    "plot.ylabel('Medali')\n",
    "plot.show()"
   ]
  },
  {
   "cell_type": "markdown",
   "metadata": {},
   "source": [
    "# Soal 03 - Statistik Deskriptif"
   ]
  },
  {
   "cell_type": "code",
   "execution_count": 26,
   "metadata": {},
   "outputs": [
    {
     "data": {
      "text/html": [
       "<div>\n",
       "<style scoped>\n",
       "    .dataframe tbody tr th:only-of-type {\n",
       "        vertical-align: middle;\n",
       "    }\n",
       "\n",
       "    .dataframe tbody tr th {\n",
       "        vertical-align: top;\n",
       "    }\n",
       "\n",
       "    .dataframe thead th {\n",
       "        text-align: right;\n",
       "    }\n",
       "</style>\n",
       "<table border=\"1\" class=\"dataframe\">\n",
       "  <thead>\n",
       "    <tr style=\"text-align: right;\">\n",
       "      <th></th>\n",
       "      <th>Atlit</th>\n",
       "      <th>Medali</th>\n",
       "      <th>GDP</th>\n",
       "    </tr>\n",
       "  </thead>\n",
       "  <tbody>\n",
       "    <tr>\n",
       "      <th>count</th>\n",
       "      <td>206.000000</td>\n",
       "      <td>206.000000</td>\n",
       "      <td>2.060000e+02</td>\n",
       "    </tr>\n",
       "    <tr>\n",
       "      <th>mean</th>\n",
       "      <td>54.242718</td>\n",
       "      <td>3.635922</td>\n",
       "      <td>3.587112e+11</td>\n",
       "    </tr>\n",
       "    <tr>\n",
       "      <th>std</th>\n",
       "      <td>95.660218</td>\n",
       "      <td>9.487783</td>\n",
       "      <td>1.598551e+12</td>\n",
       "    </tr>\n",
       "    <tr>\n",
       "      <th>min</th>\n",
       "      <td>1.000000</td>\n",
       "      <td>0.000000</td>\n",
       "      <td>0.000000e+00</td>\n",
       "    </tr>\n",
       "    <tr>\n",
       "      <th>25%</th>\n",
       "      <td>6.000000</td>\n",
       "      <td>0.000000</td>\n",
       "      <td>2.232310e+09</td>\n",
       "    </tr>\n",
       "    <tr>\n",
       "      <th>50%</th>\n",
       "      <td>11.000000</td>\n",
       "      <td>0.000000</td>\n",
       "      <td>1.974288e+10</td>\n",
       "    </tr>\n",
       "    <tr>\n",
       "      <th>75%</th>\n",
       "      <td>55.750000</td>\n",
       "      <td>3.000000</td>\n",
       "      <td>1.573998e+11</td>\n",
       "    </tr>\n",
       "    <tr>\n",
       "      <th>max</th>\n",
       "      <td>555.000000</td>\n",
       "      <td>79.000000</td>\n",
       "      <td>1.862448e+13</td>\n",
       "    </tr>\n",
       "  </tbody>\n",
       "</table>\n",
       "</div>"
      ],
      "text/plain": [
       "            Atlit      Medali           GDP\n",
       "count  206.000000  206.000000  2.060000e+02\n",
       "mean    54.242718    3.635922  3.587112e+11\n",
       "std     95.660218    9.487783  1.598551e+12\n",
       "min      1.000000    0.000000  0.000000e+00\n",
       "25%      6.000000    0.000000  2.232310e+09\n",
       "50%     11.000000    0.000000  1.974288e+10\n",
       "75%     55.750000    3.000000  1.573998e+11\n",
       "max    555.000000   79.000000  1.862448e+13"
      ]
     },
     "execution_count": 26,
     "metadata": {},
     "output_type": "execute_result"
    }
   ],
   "source": [
    "Rio_Atlit_Medali_GDP.describe()"
   ]
  },
  {
   "cell_type": "markdown",
   "metadata": {},
   "source": [
    "# Soal 04 - Analisis Model Regresi"
   ]
  },
  {
   "cell_type": "markdown",
   "metadata": {},
   "source": [
    "##  Model Regresi Linier"
   ]
  },
  {
   "cell_type": "code",
   "execution_count": 27,
   "metadata": {},
   "outputs": [],
   "source": [
    "import pandas as pd\n",
    "import numpy as np\n",
    "from scipy import stats as st\n",
    "import matplotlib.pyplot as plot\n",
    "from sklearn.linear_model import LinearRegression"
   ]
  },
  {
   "cell_type": "code",
   "execution_count": 28,
   "metadata": {},
   "outputs": [],
   "source": [
    "X = Rio_Atlit_Medali_GDP['Atlit'].values.reshape(-1, 1) \n",
    "Y = Rio_Atlit_Medali_GDP['Medali']  \n",
    "model = LinearRegression() \n",
    "model.fit(X, Y) \n",
    "y_pred = model.predict(X)"
   ]
  },
  {
   "cell_type": "code",
   "execution_count": 29,
   "metadata": {},
   "outputs": [
    {
     "name": "stdout",
     "output_type": "stream",
     "text": [
      "intercept -1.0435893136046595\n",
      "slope [0.08626986]\n"
     ]
    }
   ],
   "source": [
    "print('intercept', model.intercept_)\n",
    "print('slope', model.coef_)"
   ]
  },
  {
   "cell_type": "code",
   "execution_count": 30,
   "metadata": {},
   "outputs": [
    {
     "data": {
      "image/png": "[encoded data removed]",
      "text/plain": [
       "<Figure size 432x288 with 1 Axes>"
      ]
     },
     "metadata": {
      "needs_background": "light"
     },
     "output_type": "display_data"
    }
   ],
   "source": [
    "plot.scatter(X, Y)\n",
    "plot.plot(X, y_pred, color='red')\n",
    "plot.show()"
   ]
  },
  {
   "cell_type": "code",
   "execution_count": 31,
   "metadata": {},
   "outputs": [
    {
     "name": "stdout",
     "output_type": "stream",
     "text": [
      "Mean absolute error: 2.21\n",
      "Residual sum of squares (MSE): 21.81\n",
      "R2-score: 0.7566\n"
     ]
    }
   ],
   "source": [
    "# evaluation\n",
    "from sklearn.metrics import mean_absolute_error\n",
    "from sklearn.metrics import mean_squared_error\n",
    "from sklearn.metrics import r2_score\n",
    "\n",
    "test_x = np.asanyarray(Rio_Atlit_Medali_GDP['Atlit'].values.reshape(-1, 1))\n",
    "test_y = np.asanyarray(Rio_Atlit_Medali_GDP['Medali'])\n",
    "test_y2 = model.predict(test_x)\n",
    "\n",
    "mae = mean_absolute_error(test_y, test_y2)\n",
    "mse = mean_squared_error(test_y, test_y2)\n",
    "r2 = r2_score(test_y , test_y2)\n",
    "\n",
    "print(\"Mean absolute error: %.2f\" % mae)\n",
    "print(\"Residual sum of squares (MSE): %.2f\" % mse)\n",
    "print(\"R2-score: %.4f\" % r2)\n",
    "\n",
    "hasilRegresi = pd.DataFrame(columns=['linear', 'kuadratik', 'sigmodial','eksponensial'])\n",
    "hasilRegresi['linear'] = [mae,mse,r2]"
   ]
  },
  {
   "cell_type": "markdown",
   "metadata": {},
   "source": [
    "## Model Regresi Non-Linier"
   ]
  },
  {
   "cell_type": "markdown",
   "metadata": {},
   "source": [
    "### 1. Fungsi Polinomial Kuadratik"
   ]
  },
  {
   "cell_type": "markdown",
   "metadata": {},
   "source": [
    "Fungsi kuadratik didefinisikan sebagai berikut ini: $$ y = ax^2 + bx + c$$ "
   ]
  },
  {
   "cell_type": "code",
   "execution_count": 32,
   "metadata": {},
   "outputs": [
    {
     "data": {
      "image/png": "[encoded data removed]",
      "text/plain": [
       "<Figure size 432x288 with 1 Axes>"
      ]
     },
     "metadata": {
      "needs_background": "light"
     },
     "output_type": "display_data"
    }
   ],
   "source": [
    "X = np.arange(-5.0, 5.0, 0.1)\n",
    "Y = 0.003*np.power(X,2) + 0.03*X + 0.2\n",
    "\n",
    "plot.plot(X,Y) \n",
    "plot.ylabel('Dependent Variable')\n",
    "plot.xlabel('Indepdendent Variable')\n",
    "plot.show()"
   ]
  },
  {
   "cell_type": "code",
   "execution_count": 33,
   "metadata": {},
   "outputs": [],
   "source": [
    "def kuadrat(x, a, b, c):\n",
    "    y = a*np.power(x,2) + b*x + c\n",
    "    return y"
   ]
  },
  {
   "cell_type": "code",
   "execution_count": 34,
   "metadata": {},
   "outputs": [
    {
     "name": "stdout",
     "output_type": "stream",
     "text": [
      " a = 0.000127, b = 0.038000, c = 0.047289\n"
     ]
    }
   ],
   "source": [
    "data_x1, data_y1 = (Rio_Atlit_Medali_GDP['Atlit'].values, Rio_Atlit_Medali_GDP['Medali'].values)\n",
    "\n",
    "from scipy.optimize import curve_fit\n",
    "popt, pcov = curve_fit(kuadrat, data_x1, data_y1, maxfev = 1000)\n",
    "#print the final parameters\n",
    "print(\" a = %f, b = %f, c = %f\" % (popt[0], popt[1], popt[2]))"
   ]
  },
  {
   "cell_type": "code",
   "execution_count": 35,
   "metadata": {},
   "outputs": [
    {
     "data": {
      "image/png": "[encoded data removed]",
      "text/plain": [
       "<Figure size 432x288 with 1 Axes>"
      ]
     },
     "metadata": {
      "needs_background": "light"
     },
     "output_type": "display_data"
    }
   ],
   "source": [
    "x = np.linspace(0, 600,206)\n",
    "y = kuadrat(x, *popt)\n",
    "plot.plot(data_x1, data_y1, 'o', label='data')\n",
    "plot.plot(x,y,'r', linewidth=3.0, label='fit')\n",
    "plot.legend(loc='best')\n",
    "plot.ylabel('Perolehan Medali')\n",
    "plot.xlabel('Jumlah Atlit')\n",
    "plot.show()"
   ]
  },
  {
   "cell_type": "code",
   "execution_count": 36,
   "metadata": {},
   "outputs": [
    {
     "name": "stdout",
     "output_type": "stream",
     "text": [
      "Mean absolute error: 1.86\n",
      "Residual sum of squares (MSE): 18.88\n",
      "R2-score: 0.7893\n"
     ]
    }
   ],
   "source": [
    "test1_x = np.asanyarray(Rio_Atlit_Medali_GDP['Atlit'])\n",
    "test1_y = np.asanyarray(Rio_Atlit_Medali_GDP['Medali'])\n",
    "test1_y2 = kuadrat(test1_x, *popt)\n",
    "\n",
    "mae = mean_absolute_error(test1_y, test1_y2)\n",
    "mse = mean_squared_error(test1_y, test1_y2)\n",
    "r2 = r2_score(test1_y , test1_y2) \n",
    "\n",
    "\n",
    "print(\"Mean absolute error: %.2f\" % mae)\n",
    "print(\"Residual sum of squares (MSE): %.2f\" % mse)\n",
    "print(\"R2-score: %.4f\" % r2 )\n",
    "\n",
    "hasilRegresi['kuadratik'] = [mae,mse,r2]"
   ]
  },
  {
   "cell_type": "markdown",
   "metadata": {},
   "source": [
    "### 2. Fungsi Sigmodial "
   ]
  },
  {
   "cell_type": "markdown",
   "metadata": {},
   "source": [
    "Fungsi sigmodial didefinisikan sebagai berikut ini: $$ y = \\frac{a}{1+e^{-k(x-x_c)}} $$"
   ]
  },
  {
   "cell_type": "code",
   "execution_count": 37,
   "metadata": {},
   "outputs": [],
   "source": [
    "def sigmo(x, a, k, xc):\n",
    "    y = a/(1+np.exp(-k*(x-xc)))\n",
    "    return y"
   ]
  },
  {
   "cell_type": "code",
   "execution_count": 38,
   "metadata": {},
   "outputs": [
    {
     "name": "stdout",
     "output_type": "stream",
     "text": [
      " a = 78.318050, b = 0.009261, c = 418.177519\n"
     ]
    }
   ],
   "source": [
    "data_x2, data_y2 = (Rio_Atlit_Medali_GDP['Atlit'].values, Rio_Atlit_Medali_GDP['Medali'].values)\n",
    "\n",
    "popt, pcov = curve_fit(sigmo, data_x2, data_y2, maxfev = 1000)\n",
    "#print the final parameters\n",
    "print(\" a = %f, b = %f, c = %f\" % (popt[0], popt[1], popt[2]))"
   ]
  },
  {
   "cell_type": "code",
   "execution_count": 39,
   "metadata": {},
   "outputs": [
    {
     "data": {
      "image/png": "[encoded data removed]",
      "text/plain": [
       "<Figure size 432x288 with 1 Axes>"
      ]
     },
     "metadata": {
      "needs_background": "light"
     },
     "output_type": "display_data"
    }
   ],
   "source": [
    "x = np.linspace(0, 600,206)\n",
    "y = sigmo(x, *popt)\n",
    "plot.plot(data_x2, data_y2, 'o', label='data')\n",
    "plot.plot(x,y,'r', linewidth=3.0, label='fit')\n",
    "plot.legend(loc='best')\n",
    "plot.ylabel('Perolehan Medali')\n",
    "plot.xlabel('Jumlah Atlit')\n",
    "plot.show()"
   ]
  },
  {
   "cell_type": "code",
   "execution_count": 40,
   "metadata": {},
   "outputs": [
    {
     "name": "stdout",
     "output_type": "stream",
     "text": [
      "Mean absolute error: 2.63\n",
      "Residual sum of squares (MSE): 22.02\n",
      "R2-score: 0.7541\n"
     ]
    }
   ],
   "source": [
    "test2_x = np.asanyarray(Rio_Atlit_Medali_GDP['Atlit'])\n",
    "test2_y = np.asanyarray(Rio_Atlit_Medali_GDP['Medali'])\n",
    "test2_y2 = sigmo(test2_x, *popt)\n",
    "\n",
    "\n",
    "mae = mean_absolute_error(test2_y, test2_y2)\n",
    "mse = mean_squared_error(test2_y, test2_y2)\n",
    "r2 = r2_score(test2_y , test2_y2)\n",
    "\n",
    "print(\"Mean absolute error: %.2f\" % mae)\n",
    "print(\"Residual sum of squares (MSE): %.2f\" % mse)\n",
    "print(\"R2-score: %.4f\" % r2)\n",
    "\n",
    "hasilRegresi['sigmodial'] = [mae,mse,r2]"
   ]
  },
  {
   "cell_type": "markdown",
   "metadata": {},
   "source": [
    "### 3. Fungsi Ekponensial "
   ]
  },
  {
   "cell_type": "markdown",
   "metadata": {},
   "source": [
    "Fungsi ekponensial didefinisikan sebagai berikut ini: $$ y = a + bx + c\\rho^x $$"
   ]
  },
  {
   "cell_type": "code",
   "execution_count": 41,
   "metadata": {},
   "outputs": [],
   "source": [
    "def expo(x, a, b, c, r):\n",
    "    y = a + b*x + c*np.power(x,r)\n",
    "    return y"
   ]
  },
  {
   "cell_type": "code",
   "execution_count": 42,
   "metadata": {},
   "outputs": [
    {
     "name": "stdout",
     "output_type": "stream",
     "text": [
      " a = 0.548978, b = 112.590365, c = -112.680057\n"
     ]
    }
   ],
   "source": [
    "data_x3, data_y3 = (Rio_Atlit_Medali_GDP['Atlit'].values, Rio_Atlit_Medali_GDP['Medali'].values)\n",
    "\n",
    "popt, pcov = curve_fit(expo, data_x3, data_y3, maxfev = 10000)\n",
    "#print the final parameters\n",
    "print(\" a = %f, b = %f, c = %f\" % (popt[0], popt[1], popt[2]))"
   ]
  },
  {
   "cell_type": "code",
   "execution_count": 43,
   "metadata": {},
   "outputs": [
    {
     "data": {
      "image/png": "[encoded data removed]",
      "text/plain": [
       "<Figure size 432x288 with 1 Axes>"
      ]
     },
     "metadata": {
      "needs_background": "light"
     },
     "output_type": "display_data"
    }
   ],
   "source": [
    "x = np.linspace(0, 600,206)\n",
    "y = expo(x, *popt)\n",
    "plot.plot(data_x3, data_y3, 'o', label='data')\n",
    "plot.plot(x,y,'r', linewidth=3.0, label='fit')\n",
    "plot.legend(loc='best')\n",
    "plot.ylabel('Perolehan Medali')\n",
    "plot.xlabel('Jumlah Atlit')\n",
    "plot.show()"
   ]
  },
  {
   "cell_type": "code",
   "execution_count": 44,
   "metadata": {},
   "outputs": [
    {
     "name": "stdout",
     "output_type": "stream",
     "text": [
      "Mean absolute error: 1.93\n",
      "Residual sum of squares (MSE): 19.76\n",
      "R2-score: 0.7794\n"
     ]
    }
   ],
   "source": [
    "test3_x = np.asanyarray(Rio_Atlit_Medali_GDP['Atlit'])\n",
    "test3_y = np.asanyarray(Rio_Atlit_Medali_GDP['Medali'])\n",
    "test3_y2 = expo(test3_x, *popt)\n",
    "\n",
    "mae = mean_absolute_error(test3_y, test3_y2)\n",
    "mse = mean_squared_error(test3_y, test3_y2)\n",
    "r2 = r2_score(test3_y , test3_y2)\n",
    "\n",
    "print(\"Mean absolute error: %.2f\" % mae)\n",
    "print(\"Residual sum of squares (MSE): %.2f\" % mse)\n",
    "print(\"R2-score: %.4f\" % r2_score(test3_y , test3_y2))\n",
    "\n",
    "hasilRegresi['eksponensial'] = [mae,mse,r2]"
   ]
  },
  {
   "cell_type": "code",
   "execution_count": 54,
   "metadata": {},
   "outputs": [
    {
     "data": {
      "text/html": [
       "<div>\n",
       "<style scoped>\n",
       "    .dataframe tbody tr th:only-of-type {\n",
       "        vertical-align: middle;\n",
       "    }\n",
       "\n",
       "    .dataframe tbody tr th {\n",
       "        vertical-align: top;\n",
       "    }\n",
       "\n",
       "    .dataframe thead th {\n",
       "        text-align: right;\n",
       "    }\n",
       "</style>\n",
       "<table border=\"1\" class=\"dataframe\">\n",
       "  <thead>\n",
       "    <tr style=\"text-align: right;\">\n",
       "      <th></th>\n",
       "      <th>linear</th>\n",
       "      <th>kuadratik</th>\n",
       "      <th>sigmodial</th>\n",
       "      <th>eksponensial</th>\n",
       "    </tr>\n",
       "  </thead>\n",
       "  <tbody>\n",
       "    <tr>\n",
       "      <th>MAE</th>\n",
       "      <td>2.206517</td>\n",
       "      <td>1.857327</td>\n",
       "      <td>2.630379</td>\n",
       "      <td>1.930583</td>\n",
       "    </tr>\n",
       "    <tr>\n",
       "      <th>MSE</th>\n",
       "      <td>21.806348</td>\n",
       "      <td>18.878201</td>\n",
       "      <td>22.024329</td>\n",
       "      <td>19.759159</td>\n",
       "    </tr>\n",
       "    <tr>\n",
       "      <th>RMSE</th>\n",
       "      <td>0.756574</td>\n",
       "      <td>0.789261</td>\n",
       "      <td>0.754141</td>\n",
       "      <td>0.779427</td>\n",
       "    </tr>\n",
       "  </tbody>\n",
       "</table>\n",
       "</div>"
      ],
      "text/plain": [
       "         linear  kuadratik  sigmodial  eksponensial\n",
       "MAE    2.206517   1.857327   2.630379      1.930583\n",
       "MSE   21.806348  18.878201  22.024329     19.759159\n",
       "RMSE   0.756574   0.789261   0.754141      0.779427"
      ]
     },
     "metadata": {},
     "output_type": "display_data"
    }
   ],
   "source": [
    "hasilRegresi.rename(index={0:'MAE',1:'MSE',3:'R2'}, inplace=True)\n",
    "display(hasilRegresi)"
   ]
  },
  {
   "cell_type": "markdown",
   "metadata": {},
   "source": [
    "Dari pendekatan menggunakan model regresi linier dan berbagai model regresi non-linier. Didapatkan bahwa <b>model regresi non-linier kuadratik</b> merupakan model yang terbaik berdasarkan nilai <b>MAE, MSE, dan R2</b> yaitu, <b>1.857327, 18.878201, 0.789261</b>, secara berurutan.\n"
   ]
  },
  {
   "cell_type": "markdown",
   "metadata": {},
   "source": [
    "# Soal 05 - Analisis Klasifikasi"
   ]
  },
  {
   "cell_type": "markdown",
   "metadata": {},
   "source": [
    "Untuk analisis klasifikasi akan digunakan **K nearest neighbors** untuk memprediksi olahraga yang diikuti atlit menggunakan tinggi dan berat badannya"
   ]
  },
  {
   "cell_type": "code",
   "execution_count": 45,
   "metadata": {},
   "outputs": [
    {
     "data": {
      "text/plain": [
       "array(['Weightlifting', 'Gymnastics', 'Athletics', 'Rowing', 'Taekwondo',\n",
       "       'Handball', 'Boxing', 'Equestrianism', 'Cycling', 'Volleyball',\n",
       "       'Diving', 'Shooting', 'Judo', 'Football', 'Synchronized Swimming',\n",
       "       'Wrestling', 'Fencing', 'Swimming', 'Badminton', 'Rugby Sevens',\n",
       "       'Table Tennis', 'Water Polo', 'Trampolining', 'Basketball',\n",
       "       'Triathlon', 'Modern Pentathlon', 'Sailing', 'Beach Volleyball',\n",
       "       'Golf', 'Rhythmic Gymnastics', 'Archery', 'Hockey', 'Canoeing',\n",
       "       'Tennis'], dtype=object)"
      ]
     },
     "execution_count": 45,
     "metadata": {},
     "output_type": "execute_result"
    }
   ],
   "source": [
    "# Mengetahui cabang olahraga apa saja yang dipertandinkan\n",
    "\n",
    "olympic_Rio['Sport'].unique()"
   ]
  },
  {
   "cell_type": "code",
   "execution_count": 46,
   "metadata": {},
   "outputs": [],
   "source": [
    "# Mengektrak data untuk tinggi dan berat badan atlit pria\n",
    "\n",
    "atlit_pria = olympic_Rio.loc[olympic_Rio['Sex'] == 'M', ['Sport', 'Age', 'Weight', 'Height']].drop_duplicates()"
   ]
  },
  {
   "cell_type": "code",
   "execution_count": 47,
   "metadata": {},
   "outputs": [],
   "source": [
    "# Membuat y, X untuk K nearest neigbours\n",
    "from patsy import dmatrices\n",
    "\n",
    "Y, X = dmatrices('Sport ~ 0 + Weight + Height', data = atlit_pria, return_type = 'dataframe')"
   ]
  },
  {
   "cell_type": "markdown",
   "metadata": {},
   "source": [
    "Memplotting beberapa olahraga dan dapat dilihat bahwa untuk mengetahui atlit atletik dan angkat berat dapat dengan mudah dibedakan dilihat dari tinggi dan berat badannya, namun untuk cabang olahraga yang lainnya lebih sulit jika hanya melalui tinggi dan berat badannya."
   ]
  },
  {
   "cell_type": "code",
   "execution_count": 48,
   "metadata": {},
   "outputs": [
    {
     "data": {
      "image/png": "[encoded data removed]",
      "text/plain": [
       "<Figure size 936x432 with 2 Axes>"
      ]
     },
     "metadata": {
      "needs_background": "light"
     },
     "output_type": "display_data"
    }
   ],
   "source": [
    "\n",
    "fig, (ax1, ax2) = plot.subplots(nrows = 1, ncols = 2, figsize = (13,6))\n",
    "\n",
    "ax1.scatter(X['Weight'], X['Height'], c = Y['Sport[Weightlifting]'], cmap = 'bwr', marker = '.', alpha = 0.3)\n",
    "ax1.set_title('Angkat Berat vs Tinggi dan Berat Badan')\n",
    "ax1.set_xlabel('Berat Badan')\n",
    "ax1.set_ylabel('Tinggi')\n",
    "\n",
    "ax2.scatter(X['Weight'], X['Height'], c = Y['Sport[Athletics]'], cmap = 'bwr', marker = '.', alpha = 0.3)\n",
    "ax2.set_title('Atletik vs Tinggi dan Berat Badan')\n",
    "ax2.set_xlabel('Berat Badan')\n",
    "ax2.set_ylabel('Tinggi')\n",
    "\n",
    "plot.show()"
   ]
  },
  {
   "cell_type": "markdown",
   "metadata": {},
   "source": [
    "Selanjutnya, melakukan prediksi atlit angkat berat"
   ]
  },
  {
   "cell_type": "code",
   "execution_count": 49,
   "metadata": {},
   "outputs": [],
   "source": [
    "atlit_pria['angkat_berat'] = np.where(atlit_pria['Sport'] == 'Weightlifting', 1, 0)"
   ]
  },
  {
   "cell_type": "code",
   "execution_count": 50,
   "metadata": {},
   "outputs": [
    {
     "data": {
      "text/plain": [
       "0.9737159122752681"
      ]
     },
     "execution_count": 50,
     "metadata": {},
     "output_type": "execute_result"
    }
   ],
   "source": [
    "# Membuat y dan X matrik\n",
    "\n",
    "from sklearn import model_selection\n",
    "from sklearn import metrics\n",
    "from sklearn import neighbors\n",
    "\n",
    "Y, X = dmatrices('angkat_berat ~ 0 + Weight + Height',\n",
    "                data = atlit_pria,\n",
    "                return_type = 'dataframe')\n",
    "\n",
    "y = Y['angkat_berat'].values\n",
    "\n",
    "accuracies = []\n",
    "\n",
    "kfold = model_selection.StratifiedKFold(n_splits = 5, shuffle = True).split(X, y)\n",
    "\n",
    "model = neighbors.KNeighborsClassifier(n_neighbors = 20,\n",
    "                                      p = 2,\n",
    "                                      weights = 'uniform')\n",
    "\n",
    "for train, holdout in kfold:\n",
    "    model.fit(X.iloc[train], y[train])\n",
    "    prediction_on_test = model.predict(X.iloc[holdout])\n",
    "    accuracies.append(metrics.accuracy_score(y[holdout], prediction_on_test))\n",
    "\n",
    "np.mean(accuracies)"
   ]
  },
  {
   "cell_type": "markdown",
   "metadata": {},
   "source": [
    "Terlihat bahwa hasil akurasi prediksi sebesar 97%, tentu saja karena cabang olahraga ini para atlitnya cenderung memiliki berat badan dan tinggi yang besar dibandingkan dengan cabang olahraga lainnya.\n",
    "\n",
    "Selanjutnya mencoba untuk cabang Atletik"
   ]
  },
  {
   "cell_type": "code",
   "execution_count": 51,
   "metadata": {},
   "outputs": [
    {
     "data": {
      "text/plain": [
       "0.8223687202197445"
      ]
     },
     "execution_count": 51,
     "metadata": {},
     "output_type": "execute_result"
    }
   ],
   "source": [
    "atlit_pria['atletik'] = np.where(atlit_pria['Sport'] == 'Athletics', 1, 0)\n",
    "\n",
    "# create the y and X matrices\n",
    "from sklearn import model_selection\n",
    "from sklearn import metrics\n",
    "from sklearn import neighbors\n",
    "\n",
    "Y, X = dmatrices('atletik ~ 0 + Weight + Height',\n",
    "                data = atlit_pria,\n",
    "                return_type = 'dataframe')\n",
    "\n",
    "y = Y['atletik'].values\n",
    "\n",
    "accuracies = []\n",
    "\n",
    "kfold = model_selection.StratifiedKFold(n_splits = 5, shuffle = True).split(X, y)\n",
    "\n",
    "model = neighbors.KNeighborsClassifier(n_neighbors = 20,\n",
    "                                      p = 2,\n",
    "                                      weights = 'uniform')\n",
    "\n",
    "for train, holdout in kfold:\n",
    "    model.fit(X.iloc[train], y[train])\n",
    "    prediction_on_test = model.predict(X.iloc[holdout])\n",
    "    accuracies.append(metrics.accuracy_score(y[holdout], prediction_on_test))\n",
    "\n",
    "np.mean(accuracies)"
   ]
  },
  {
   "cell_type": "markdown",
   "metadata": {},
   "source": [
    "Hasil yang cukup akurat dengan nilai akurasi sebesar 82% untuk memprediksi atlit Atletik"
   ]
  },
  {
   "cell_type": "code",
   "execution_count": null,
   "metadata": {},
   "outputs": [],
   "source": []
  }
 ],
 "metadata": {
  "kernelspec": {
   "display_name": "Python 3",
   "language": "python",
   "name": "python3"
  },
  "language_info": {
   "codemirror_mode": {
    "name": "ipython",
    "version": 3
   },
   "file_extension": ".py",
   "mimetype": "text/x-python",
   "name": "python",
   "nbconvert_exporter": "python",
   "pygments_lexer": "ipython3",
   "version": "3.7.3"
  }
 },
 "nbformat": 4,
 "nbformat_minor": 2
}
